{
 "cells": [
  {
   "cell_type": "code",
   "execution_count": 13,
   "id": "3ff8a2e6-09e4-43e0-8927-eaea06836a94",
   "metadata": {},
   "outputs": [
    {
     "name": "stdin",
     "output_type": "stream",
     "text": [
      "Enter Values: 2 3 4 5\n"
     ]
    },
    {
     "name": "stdout",
     "output_type": "stream",
     "text": [
      "[2, 3, 4, 5]\n"
     ]
    }
   ],
   "source": [
    "l = [ int(x) for x in input('Enter Values:').split()]\n",
    "print(l)"
   ]
  },
  {
   "cell_type": "code",
   "execution_count": 12,
   "id": "b72f9401-4beb-4bf1-b189-a5116c7959bd",
   "metadata": {},
   "outputs": [
    {
     "name": "stdin",
     "output_type": "stream",
     "text": [
      "Enter Values: 2,3,4\n"
     ]
    },
    {
     "name": "stdout",
     "output_type": "stream",
     "text": [
      "[2.0, 3.0, 4.0]\n"
     ]
    }
   ],
   "source": [
    "l=[float(x)for x in input('Enter Values:').split(',')]\n",
    "print(l)"
   ]
  },
  {
   "cell_type": "code",
   "execution_count": 15,
   "id": "ddb99d95-93e0-4d70-93a8-19d591b5fed0",
   "metadata": {},
   "outputs": [
    {
     "name": "stdin",
     "output_type": "stream",
     "text": [
      "Enter Values: 2,3,2\n"
     ]
    },
    {
     "name": "stdout",
     "output_type": "stream",
     "text": [
      "[2, 3, 2]\n",
      "7\n"
     ]
    }
   ],
   "source": [
    "l=[int(x)for x in input('Enter Values:').split(',')]\n",
    "print(l)\n",
    "sum=0\n",
    "for y in l:\n",
    "    sum=sum+y\n",
    "print(sum)\n"
   ]
  },
  {
   "cell_type": "code",
   "execution_count": 14,
   "id": "810da5fd-c19f-49f1-9c81-4576df4dee43",
   "metadata": {},
   "outputs": [
    {
     "name": "stdin",
     "output_type": "stream",
     "text": [
      "Enter 3 Values: 2 3 5\n"
     ]
    },
    {
     "name": "stdout",
     "output_type": "stream",
     "text": [
      "2\n",
      "10\n"
     ]
    }
   ],
   "source": [
    "x,y,z=[int(x) for x in input('Enter 3 Values:').split()]         # if we write ',' in split function then when we enter a values we have to do with ','\n",
    "print(x)\n",
    "print(x+y+z)"
   ]
  },
  {
   "cell_type": "code",
   "execution_count": 16,
   "id": "c86ecd0b-2682-4033-8983-39c4cf4c8b78",
   "metadata": {},
   "outputs": [
    {
     "name": "stdout",
     "output_type": "stream",
     "text": [
      "Hello\n",
      "\n",
      "Hi\n"
     ]
    }
   ],
   "source": [
    "print('Hello')\n",
    "print('')\n",
    "print('Hi')"
   ]
  },
  {
   "cell_type": "code",
   "execution_count": 17,
   "id": "8f4de536-0f71-44b8-a22c-49a52540dc29",
   "metadata": {},
   "outputs": [
    {
     "name": "stdout",
     "output_type": "stream",
     "text": [
      "ABCD\n",
      "EFGHI\n",
      "JKLMN\n",
      "Welcome\n",
      "to\n",
      "python\n",
      "training\n"
     ]
    }
   ],
   "source": [
    "print('ABCD\\nEFGHI\\nJKLMN')               # \\n next line\n",
    "print('Welcome\\nto\\npython\\ntraining')"
   ]
  },
  {
   "cell_type": "code",
   "execution_count": 18,
   "id": "b60d07ac-3a35-4033-b249-8a1b04492473",
   "metadata": {},
   "outputs": [
    {
     "name": "stdout",
     "output_type": "stream",
     "text": [
      "RamRamRam\n",
      "Nagpur\n",
      "NagNagNagpur\n",
      "8\n"
     ]
    }
   ],
   "source": [
    "print('Ram'*3)\n",
    "print('Nag'+'pur')\n",
    "print(3*'Nag'+'pur')\n",
    "print(2**3)"
   ]
  },
  {
   "cell_type": "code",
   "execution_count": 20,
   "id": "a29c25cc-c86c-4ce0-82da-b862b4635a60",
   "metadata": {},
   "outputs": [
    {
     "name": "stdout",
     "output_type": "stream",
     "text": [
      "enggcollege\n",
      "engg college\n",
      "enggcollege\n",
      "engg  college\n"
     ]
    }
   ],
   "source": [
    "print('engg'+'college')                   # Concatenates two strings\n",
    "print('engg','college')                   # Prints with space seprator by default\n",
    "print('engg'+''+'college')                # Concatenates with empty string\n",
    "print('engg'+'  '+'college')              # Concatenates with space"
   ]
  },
  {
   "cell_type": "code",
   "execution_count": 26,
   "id": "f871bc40-6e43-4bbe-a2a4-c97ea609f467",
   "metadata": {},
   "outputs": [
    {
     "name": "stdout",
     "output_type": "stream",
     "text": [
      "hello ramesh My friend name is neha She is good human being\n"
     ]
    }
   ],
   "source": [
    "name = 'ramesh'\n",
    "f = 'neha'\n",
    "print('hello',name, 'My friend name is',f,'She is good human being')"
   ]
  },
  {
   "cell_type": "code",
   "execution_count": 34,
   "id": "3294a9d7-5bee-4569-bbf6-484e4d9b4b40",
   "metadata": {},
   "outputs": [
    {
     "name": "stdout",
     "output_type": "stream",
     "text": [
      "values are 10 20 30\n",
      "10-20-30\n",
      "70*40*50\n",
      "8090100\n",
      "16/10/2004\n",
      "80  90  100\n"
     ]
    }
   ],
   "source": [
    "a,b,c =10,20,30\n",
    "print('values are',a,b,c)\n",
    "print(a,b,c,sep='-')\n",
    "a,b,c=70,40,50\n",
    "print(a,b,c,sep='*')                   # Star \n",
    "a,b,c=80,90,100\n",
    "print(a,b,c,sep='')  \n",
    "a,b,c=16,10,2004\n",
    "print(a,b,c,sep='/')  \n",
    "a,b,c=80,90,100\n",
    "print(a,b,c,sep='  ')  "
   ]
  },
  {
   "cell_type": "code",
   "execution_count": 38,
   "id": "50897a47-82bb-4a01-a45f-6bae2d86226d",
   "metadata": {},
   "outputs": [
    {
     "name": "stdout",
     "output_type": "stream",
     "text": [
      "Hello\n",
      "World\n"
     ]
    }
   ],
   "source": [
    "print(\"Hello\")\n",
    "print(\"World\")"
   ]
  },
  {
   "cell_type": "code",
   "execution_count": 39,
   "id": "76bdbfef-dddb-43dd-8a2e-e5d7f2a6bee5",
   "metadata": {},
   "outputs": [
    {
     "name": "stdout",
     "output_type": "stream",
     "text": [
      "Hello World\n"
     ]
    }
   ],
   "source": [
    "print(\"Hello\",end=' ')\n",
    "print(\"World\")"
   ]
  },
  {
   "cell_type": "code",
   "execution_count": 42,
   "id": "1f79ded3-2ad5-4935-8303-f07bbd41f081",
   "metadata": {},
   "outputs": [
    {
     "name": "stdout",
     "output_type": "stream",
     "text": [
      "HelloWorld\n",
      "India\n"
     ]
    }
   ],
   "source": [
    "print(\"Hello\",end='')\n",
    "print(\"World\")\n",
    "print('India')"
   ]
  },
  {
   "cell_type": "code",
   "execution_count": 44,
   "id": "c89704cc-5aa9-43e4-86da-5288441a0aaf",
   "metadata": {},
   "outputs": [
    {
     "name": "stdout",
     "output_type": "stream",
     "text": [
      "1\n",
      "2\n",
      "3\n",
      "4\n",
      "5\n",
      "6\n",
      "7\n",
      "8\n",
      "9\n",
      "10\n",
      "11\n",
      "12\n"
     ]
    }
   ],
   "source": [
    "for i in range(1,13):\n",
    "    print(i)"
   ]
  },
  {
   "cell_type": "code",
   "execution_count": 54,
   "id": "f50dbd20-c43b-4652-ad5d-9dffd73ecfda",
   "metadata": {},
   "outputs": [
    {
     "name": "stdout",
     "output_type": "stream",
     "text": [
      "1 2 3 4 5 6 7 8 9 10 11 12 "
     ]
    }
   ],
   "source": [
    "for i in range(1,13):\n",
    "    print(i,end=' ')             #1 2 3 4 5 6 7 8 9 10 11 12"
   ]
  },
  {
   "cell_type": "code",
   "execution_count": 53,
   "id": "d74c4186-ea02-4733-8de5-bc8e811fc5e5",
   "metadata": {},
   "outputs": [
    {
     "name": "stdout",
     "output_type": "stream",
     "text": [
      "123456789101112"
     ]
    }
   ],
   "source": [
    "for i in range(1,13):\n",
    "    print(i,end='')              #123456789101112"
   ]
  },
  {
   "cell_type": "code",
   "execution_count": 52,
   "id": "36e58a37-80b7-4334-a4e0-b40a20878d27",
   "metadata": {},
   "outputs": [
    {
     "name": "stdout",
     "output_type": "stream",
     "text": [
      "0 | 1 | 2 | 3 | 4 | 5 | 6 | 7 | 8 | 9 | 10 | 11 | "
     ]
    }
   ],
   "source": [
    "for i in range(0,12):\n",
    "    print(i,end=' | ') "
   ]
  },
  {
   "cell_type": "code",
   "execution_count": 60,
   "id": "d1c6204f-42de-41b5-8dbb-068fbc98845e",
   "metadata": {},
   "outputs": [
    {
     "name": "stdout",
     "output_type": "stream",
     "text": [
      "Python | java | C++ <End>\n",
      "Red - Green - Blue <<< End of line\n",
      "Next Line Starts here\n"
     ]
    }
   ],
   "source": [
    "print(\"Python\",\"java\",\"C++\",sep=' | ',end=' <End>\\n')\n",
    "print(\"Red\",\"Green\",\"Blue\",sep=' - ',end=' <<< End of line\\n')\n",
    "print(\"Next Line Starts here\")"
   ]
  },
  {
   "cell_type": "code",
   "execution_count": 61,
   "id": "2e68206f-e423-461a-8da3-c952233dab81",
   "metadata": {},
   "outputs": [
    {
     "name": "stdout",
     "output_type": "stream",
     "text": [
      "0: Red | 1: Green | 2: Blue | "
     ]
    }
   ],
   "source": [
    "colors = [\"Red\",\"Green\",\"Blue\"]\n",
    "for i,color in enumerate(colors):\n",
    "    print(i,color,sep=\": \",end=\" | \")"
   ]
  },
  {
   "cell_type": "code",
   "execution_count": 62,
   "id": "b1132d5e-7244-4b12-a94e-4c60cab97660",
   "metadata": {},
   "outputs": [
    {
     "name": "stdout",
     "output_type": "stream",
     "text": [
      "I am 25 years old.\n"
     ]
    }
   ],
   "source": [
    "age=25\n",
    "print(\"I am %d years old.\"% age)"
   ]
  },
  {
   "cell_type": "code",
   "execution_count": 63,
   "id": "b0dbe5f5-8e10-4f48-8f62-65f271131fcd",
   "metadata": {},
   "outputs": [
    {
     "name": "stdout",
     "output_type": "stream",
     "text": [
      "my name is ram my age is 28 my salary is 59000.2656\n"
     ]
    }
   ],
   "source": [
    "name = 'ram'\n",
    "age = 28\n",
    "salary = 59000.2656153\n",
    "print('my name is %s my age is %d my salary is %.4f'%(name,age,salary))"
   ]
  },
  {
   "cell_type": "code",
   "execution_count": 64,
   "id": "b780e988-9b38-4fb8-98b2-868e26159689",
   "metadata": {},
   "outputs": [
    {
     "name": "stdout",
     "output_type": "stream",
     "text": [
      "Value of pi:3.14\n"
     ]
    }
   ],
   "source": [
    "pi=3.14159265\n",
    "print(\"Value of pi:%.2f\" %pi)"
   ]
  },
  {
   "cell_type": "code",
   "execution_count": 66,
   "id": "d78a88a3-7fac-4c1e-bd31-2c6bc6ce83e5",
   "metadata": {},
   "outputs": [
    {
     "name": "stdout",
     "output_type": "stream",
     "text": [
      "Name:        Ram\n",
      "Name: Ram       !\n"
     ]
    }
   ],
   "source": [
    "print(\"Name: %10s\" % \"Ram\")\n",
    "print(\"Name: %-10s!\"% \"Ram\")"
   ]
  },
  {
   "cell_type": "code",
   "execution_count": 75,
   "id": "045bf1fb-f466-41e9-af64-92223d3b685f",
   "metadata": {},
   "outputs": [
    {
     "name": "stdout",
     "output_type": "stream",
     "text": [
      "Name:Neha, Age:24\n",
      "First ValueRam, Second value Anant\n",
      "Name Nilesh,Age 28\n",
      "Name: neha,Age: 30\n",
      "Value of pi: 3.14\n"
     ]
    }
   ],
   "source": [
    "name='Neha'\n",
    "age='24'\n",
    "print('Name:{}, Age:{}'.format(name,age))\n",
    "\n",
    "print('First Value{0}, Second value {1}'.format('Ram','Anant'))\n",
    "print('Name {},Age {}'.format('Nilesh',28))\n",
    "\n",
    "print(\"Name: {n},Age: {a}\".format(n=\"neha\",a=30))\n",
    "\n",
    "pi=3.14159265\n",
    "print(\"Value of pi: {:.2f}\".format(pi))"
   ]
  },
  {
   "cell_type": "code",
   "execution_count": 76,
   "id": "79abc7f9-5a87-4e16-96e4-8dd0d06dd1f8",
   "metadata": {},
   "outputs": [
    {
     "name": "stdout",
     "output_type": "stream",
     "text": [
      "Hello,Ramesh\n",
      "My name is Vaibhav and i am 24 years old.\n"
     ]
    }
   ],
   "source": [
    "name=\"Ramesh\"\n",
    "print(f\"Hello,{name}\")\n",
    "name=\"Vaibhav\"\n",
    "age=24\n",
    "print(f\"My name is {name} and i am {age} years old.\")"
   ]
  },
  {
   "cell_type": "code",
   "execution_count": 87,
   "id": "96d42ae2-93a3-427d-8f5e-624e9b078db8",
   "metadata": {},
   "outputs": [
    {
     "name": "stdout",
     "output_type": "stream",
     "text": [
      "the sum of 10 and 20 is 30\n",
      "Value of pi upto 2 decimal places : 3.14\n"
     ]
    }
   ],
   "source": [
    "a = 10\n",
    "b = 20\n",
    "print(f\"the sum of {a} and {b} is {a + b}\")\n",
    "pi = 3.14159265\n",
    "print(f\"Value of pi upto 2 decimal places : {pi:.2f}\")\n"
   ]
  },
  {
   "cell_type": "code",
   "execution_count": 86,
   "id": "553ded73-8f7b-46e2-b148-b666078dcb36",
   "metadata": {},
   "outputs": [
    {
     "name": "stdout",
     "output_type": "stream",
     "text": [
      "See Right             Good day\n",
      "See Left Good day            \n",
      "See Middle  Good day \n"
     ]
    }
   ],
   "source": [
    "m = 'Good day'\n",
    "print(f'See Right {m:>20}')                #m:>20    ----> Right Spaces\n",
    "print(f'See Left {m:<20}')                 #m:<20    ----> Left Spaces\n",
    "print(f'See Middle {m:^10}')               #m:^10     ----> Middle"
   ]
  },
  {
   "cell_type": "code",
   "execution_count": null,
   "id": "0653395a-1f05-495e-a1d7-e55a7f909219",
   "metadata": {},
   "outputs": [],
   "source": [
    "Arithmetic Operators"
   ]
  },
  {
   "cell_type": "code",
   "execution_count": 11,
   "id": "b9525a10-91c9-43d4-a232-60db177b52e8",
   "metadata": {},
   "outputs": [
    {
     "name": "stdout",
     "output_type": "stream",
     "text": [
      "Arithmetic Operators:\n",
      "a+b= 15\n",
      "a-b= 5\n",
      "a*b= 50\n",
      "a/b= 2.0\n",
      "a**b= 100000\n",
      "a%b= 0\n",
      "a//b= 2\n"
     ]
    }
   ],
   "source": [
    "a=10\n",
    "b=5\n",
    "print(\"Arithmetic Operators:\")\n",
    "print(\"a+b=\",a+b)         # Addition\n",
    "print(\"a-b=\",a-b)         # Substraction\n",
    "print(\"a*b=\",a*b)         # Multiplication\n",
    "print(\"a/b=\",a/b)         # Division\n",
    "print(\"a**b=\",a**b)       # Power\n",
    "print(\"a%b=\",a%b) \n",
    "print(\"a//b=\",a//b)       # Floor Division"
   ]
  },
  {
   "cell_type": "code",
   "execution_count": 31,
   "id": "02180594-0b6d-432c-96cb-d87c45879fcf",
   "metadata": {},
   "outputs": [
    {
     "name": "stdout",
     "output_type": "stream",
     "text": [
      "Relational Operators:\n",
      "a==b : False\n",
      "a!=b : True\n",
      "a>b : True\n",
      "a<b : False\n",
      "a>=b : True\n",
      "a<=b : False\n"
     ]
    }
   ],
   "source": [
    "a=10\n",
    "b=3\n",
    "print(\"Relational Operators:\")\n",
    "print(\"a==b :\",a==b)         \n",
    "print(\"a!=b :\",a!=b)        \n",
    "print(\"a>b :\",a>b)         \n",
    "print(\"a<b :\",a<b)         \n",
    "print(\"a>=b :\",a>=b)       \n",
    "print(\"a<=b :\",a<=b) "
   ]
  },
  {
   "cell_type": "code",
   "execution_count": null,
   "id": "36e5293a-bae1-42e9-910e-2c3a0532c1bf",
   "metadata": {},
   "outputs": [],
   "source": [
    "x= True\n",
    "y= False\n",
    "print(\"Logical operators:\")\n",
    "print(\"\")"
   ]
  },
  {
   "cell_type": "code",
   "execution_count": 26,
   "id": "f5b1fe84-db51-4a58-b789-134308638985",
   "metadata": {},
   "outputs": [
    {
     "name": "stdout",
     "output_type": "stream",
     "text": [
      "BITWISE OPERATORS:\n",
      "a&b : 2\n",
      "a|b : 11\n",
      "a^b : 9\n",
      "~a : -11\n",
      "~b : -4\n",
      "20\n",
      "32\n",
      "5\n",
      "1\n",
      "40\n"
     ]
    }
   ],
   "source": [
    "a=10\n",
    "b=3\n",
    "print(\"BITWISE OPERATORS:\")\n",
    "print(\"a&b :\",a&b)    # Bitwise AND ->0010\n",
    "print(\"a|b :\",a|b)    # Bitwise OR ->1011     \n",
    "print(\"a^b :\",a^b)    # Bitwise XOR ->1001\n",
    "print(\"~a :\",~a)      # Bitwise NOT ->  -(a+1) = -11\n",
    "print(\"~b :\",~b) \n",
    "print(10<<1)      # (Left Shift) 10*(2**1)=20    a*(2**n)\n",
    "print(2<<4)       # (Left Shift) 2*(2**4)\n",
    "print(10>>1)      # (Right Shift) 10 // 2 = 5               a // (2**b)\n",
    "print(10>>3)      # (Right Shift) 10 // 2 = 5               a // (2**b)\n",
    "print(5<<3)       # (Left Shift) 5<<3 ==> 5*(2**3)"
   ]
  },
  {
   "cell_type": "code",
   "execution_count": 30,
   "id": "0e0c97c5-5b55-4161-b1ad-0d1fabad67c6",
   "metadata": {},
   "outputs": [
    {
     "name": "stdout",
     "output_type": "stream",
     "text": [
      "ASSIGNMENT OPERTORS\n",
      "c+=2: 7\n",
      "c*=2: 21\n",
      "c-=2: 17\n",
      "c/=2: 8.5\n"
     ]
    }
   ],
   "source": [
    "print(\"ASSIGNMENT OPERTORS\")\n",
    "c=5\n",
    "c+=2\n",
    "print(\"c+=2:\",c)\n",
    "c*=3\n",
    "print(\"c*=2:\",c)\n",
    "c-=4\n",
    "print(\"c-=2:\",c)\n",
    "c/=2\n",
    "print(\"c/=2:\",c)"
   ]
  },
  {
   "cell_type": "code",
   "execution_count": 69,
   "id": "1a8bae1d-e4a8-458b-8259-fd9da484876a",
   "metadata": {},
   "outputs": [
    {
     "name": "stdout",
     "output_type": "stream",
     "text": [
      "a is b: True\n",
      "a is not b: False\n"
     ]
    }
   ],
   "source": [
    "# IDENTITY OPERATOR\n",
    "a=10\n",
    "b=10\n",
    "print(\"a is b:\", a is b)              # is checks memory location\n",
    "print(\"a is not b:\", a is not b)      # "
   ]
  },
  {
   "cell_type": "code",
   "execution_count": 58,
   "id": "47ce5240-49dc-441d-a342-86b99f6e1125",
   "metadata": {},
   "outputs": [
    {
     "name": "stdout",
     "output_type": "stream",
     "text": [
      "140727403219672\n",
      "140727403219672\n",
      "True\n"
     ]
    }
   ],
   "source": [
    "x=10\n",
    "print(id(x))\n",
    "y=10\n",
    "print(id(y))\n",
    "print(x is y)"
   ]
  },
  {
   "cell_type": "code",
   "execution_count": 59,
   "id": "607c8980-7dff-4adf-b093-5b738b2a1aaf",
   "metadata": {},
   "outputs": [
    {
     "name": "stdout",
     "output_type": "stream",
     "text": [
      "140727403219672\n",
      "140727403219992\n",
      "False\n"
     ]
    }
   ],
   "source": [
    "x=10\n",
    "print(id(x))\n",
    "z=20\n",
    "print(id(z))\n",
    "print(x is z)"
   ]
  },
  {
   "cell_type": "code",
   "execution_count": 51,
   "id": "70c84db3-3f75-41f5-96f7-03f285eb5ab6",
   "metadata": {},
   "outputs": [
    {
     "name": "stdout",
     "output_type": "stream",
     "text": [
      "False\n",
      "Memory Location of l1 list 1440583083520\n",
      "Memory Location of l2 list 1440583092544\n"
     ]
    }
   ],
   "source": [
    "l1=[1,2,3]   \n",
    "l2=[1,2,3]\n",
    "print(l1 is l2)\n",
    "print('Memory Location of l1 list',id(l1))\n",
    "print('Memory Location of l2 list',id(l2))"
   ]
  },
  {
   "cell_type": "code",
   "execution_count": 52,
   "id": "b04a4c3a-1c55-48a9-9be6-55916df0db78",
   "metadata": {},
   "outputs": [
    {
     "name": "stdout",
     "output_type": "stream",
     "text": [
      "x is y: False\n"
     ]
    }
   ],
   "source": [
    "x = [1,2]\n",
    "y = [1,2]\n",
    "print(\"x is y:\", x is y) \n",
    "x = [1,2]\n",
    "y = x\n",
    "print(\"x is y:\", x is y) "
   ]
  },
  {
   "cell_type": "code",
   "execution_count": 57,
   "id": "fac8faaa-0943-4ca3-984f-d33b1d426934",
   "metadata": {},
   "outputs": [
    {
     "name": "stdout",
     "output_type": "stream",
     "text": [
      "Memborship Operators\n",
      "10 in list: True\n",
      "5 not in list: True\n"
     ]
    }
   ],
   "source": [
    "print(\"Memborship Operators\")\n",
    "list = [1,3,4,10]\n",
    "print(\"10 in list:\",10 in list)\n",
    "print(\"5 not in list:\",5 not in list)\n"
   ]
  },
  {
   "cell_type": "code",
   "execution_count": null,
   "id": "6e763d8b-38ff-4e31-aba2-20e559728f43",
   "metadata": {},
   "outputs": [],
   "source": [
    "print(ord('A'))           # 65\n",
    "print(ord('a'))            # 97\n",
    "print(chr(97))            # 97"
   ]
  },
  {
   "cell_type": "code",
   "execution_count": 70,
   "id": "4a2106a4-5d34-45c6-a7fc-15371939439d",
   "metadata": {},
   "outputs": [
    {
     "name": "stdout",
     "output_type": "stream",
     "text": [
      "2 is Even number\n",
      "3 is Odd number\n",
      "5 is Odd number\n",
      "8 is Even number\n",
      "9 is Odd number\n"
     ]
    }
   ],
   "source": [
    "l=[2,3,5,8,9]\n",
    "for x in l:\n",
    "    if x%2==0:\n",
    "        print(f'{x} is Even number')\n",
    "    else:\n",
    "        print(f'{x} is Odd number')"
   ]
  }
 ],
 "metadata": {
  "kernelspec": {
   "display_name": "Python 3 (ipykernel)",
   "language": "python",
   "name": "python3"
  },
  "language_info": {
   "codemirror_mode": {
    "name": "ipython",
    "version": 3
   },
   "file_extension": ".py",
   "mimetype": "text/x-python",
   "name": "python",
   "nbconvert_exporter": "python",
   "pygments_lexer": "ipython3",
   "version": "3.12.6"
  }
 },
 "nbformat": 4,
 "nbformat_minor": 5
}
