{
 "cells": [
  {
   "cell_type": "code",
   "execution_count": 2,
   "id": "20a5fc1b-5573-4a99-94ab-e53f0571955c",
   "metadata": {},
   "outputs": [
    {
     "name": "stdout",
     "output_type": "stream",
     "text": [
      "120\n"
     ]
    }
   ],
   "source": [
    "# Write a python function to find factorial of given number with recursion\n",
    "def fact(n):\n",
    "    if n == 0:\n",
    "        return 1\n",
    "    else:\n",
    "        return n*fact(n-1)\n",
    "f = fact(5)\n",
    "print(f)"
   ]
  },
  {
   "cell_type": "code",
   "execution_count": null,
   "id": "329691b8-9d71-4622-bce4-95faf72616b3",
   "metadata": {},
   "outputs": [],
   "source": [
    "Anonymous function ( LAMBDA FUNCTION )\n",
    "Sometimes we can declare a function without any name,\n",
    "such type of nameless functions are called anonymous functions or lambda functions.\n",
    "The main purpose of anonymous function is just for instant use."
   ]
  },
  {
   "cell_type": "code",
   "execution_count": 3,
   "id": "95352829-d465-46e5-9370-dbc8b5c63244",
   "metadata": {},
   "outputs": [
    {
     "data": {
      "text/plain": [
       "25"
      ]
     },
     "execution_count": 3,
     "metadata": {},
     "output_type": "execute_result"
    }
   ],
   "source": [
    "f = lambda n: n**2\n",
    "f(5)"
   ]
  },
  {
   "cell_type": "code",
   "execution_count": 4,
   "id": "75ef8e94-2cfd-490b-a13c-71eb9a3814a6",
   "metadata": {},
   "outputs": [
    {
     "data": {
      "text/plain": [
       "4"
      ]
     },
     "execution_count": 4,
     "metadata": {},
     "output_type": "execute_result"
    }
   ],
   "source": [
    "mx = lambda a,b,c: a if a>b and a>c else b if b>c else c                 # Maximum Number\n",
    "mx(2,3,4)"
   ]
  },
  {
   "cell_type": "code",
   "execution_count": 5,
   "id": "7a5d77ca-ddbd-44b1-b100-94df817b8674",
   "metadata": {},
   "outputs": [
    {
     "data": {
      "text/plain": [
       "1"
      ]
     },
     "execution_count": 5,
     "metadata": {},
     "output_type": "execute_result"
    }
   ],
   "source": [
    "mn = lambda a,b,c: a if a<b and a<c else b if b<c else c                 # Miniimum Number\n",
    "mn(2,3,4)\n",
    "mn(5,3,4)\n",
    "mn(1,3,8)"
   ]
  },
  {
   "cell_type": "code",
   "execution_count": 6,
   "id": "cb3a80bb-40b1-4d18-973d-4b9a40fa292d",
   "metadata": {},
   "outputs": [
    {
     "name": "stdout",
     "output_type": "stream",
     "text": [
      "The Sum of 10,20 is : 30\n",
      "The Sum of 100,200 is : 300\n"
     ]
    }
   ],
   "source": [
    "# Lambda function to find sum of 2 given numbers \n",
    "s = lambda a,b: a+b\n",
    "print(\"The Sum of 10,20 is :\",s(10,20))\n",
    "print(\"The Sum of 100,200 is :\",s(100,200))"
   ]
  },
  {
   "cell_type": "code",
   "execution_count": 7,
   "id": "a1e4413f-9dd1-411f-9b27-48b4bf590c81",
   "metadata": {},
   "outputs": [
    {
     "name": "stdout",
     "output_type": "stream",
     "text": [
      "The Biggest of 10,20 is : 20\n",
      "The Biggest of 100,200 is : 200\n"
     ]
    }
   ],
   "source": [
    "# Lambda function to find biggest of given numbers\n",
    "s = lambda a,b: a if a > b else b\n",
    "print(\"The Biggest of 10,20 is :\",s(10,20))\n",
    "print(\"The Biggest of 100,200 is :\",s(100,200))"
   ]
  },
  {
   "cell_type": "code",
   "execution_count": 8,
   "id": "69065c23-1cbf-491a-a22e-c472d3aa030b",
   "metadata": {},
   "outputs": [
    {
     "name": "stdout",
     "output_type": "stream",
     "text": [
      "[0, 10, 20, 30]\n"
     ]
    }
   ],
   "source": [
    "def isEven(x):\n",
    "    if x % 2 == 0:\n",
    "        return True\n",
    "    else:\n",
    "        return False\n",
    "l = [0,5,10,15,20,25,30]\n",
    "l1 = list(filter(isEven,l))\n",
    "print(l1)"
   ]
  },
  {
   "cell_type": "code",
   "execution_count": 9,
   "id": "6ae56c92-2c15-4140-9f2e-1147360f0ae4",
   "metadata": {},
   "outputs": [
    {
     "name": "stdout",
     "output_type": "stream",
     "text": [
      "[5, 15, 25]\n"
     ]
    }
   ],
   "source": [
    "def isOdd(x):\n",
    "    if x % 2 != 0:\n",
    "        return True\n",
    "    else:\n",
    "        return False\n",
    "l = [0,5,10,15,20,25,30]\n",
    "l1 = list(filter(isOdd,l))\n",
    "print(l1)"
   ]
  },
  {
   "cell_type": "code",
   "execution_count": 10,
   "id": "4e31aed1-092a-4cf4-88ba-8edc117ff152",
   "metadata": {},
   "outputs": [
    {
     "name": "stdout",
     "output_type": "stream",
     "text": [
      "Odd Numbers Are: [5, 15, 25]\n"
     ]
    }
   ],
   "source": [
    "l = [0,5,10,15,20,25,30]\n",
    "l1 = list(filter(lambda x : x % 2 != 0,l))\n",
    "print(\"Odd Numbers Are:\", l1)"
   ]
  },
  {
   "cell_type": "code",
   "execution_count": 11,
   "id": "7d17f64e-e9f8-4532-96fa-b56b3e32032f",
   "metadata": {},
   "outputs": [
    {
     "name": "stdout",
     "output_type": "stream",
     "text": [
      "Even Numbers Are: [0, 10, 20, 30]\n"
     ]
    }
   ],
   "source": [
    "l = [0,5,10,15,20,25,30]\n",
    "l1 = list(filter(lambda x : x % 2 == 0,l))\n",
    "print(\"Even Numbers Are:\", l1)          "
   ]
  },
  {
   "cell_type": "code",
   "execution_count": 12,
   "id": "52398110-4253-4b97-a3a5-4ad9c1be2bf8",
   "metadata": {},
   "outputs": [
    {
     "name": "stdout",
     "output_type": "stream",
     "text": [
      "{0, 10, 20, 30}\n",
      "[0, 10, 20, 30]\n",
      "(0, 10, 20, 30)\n"
     ]
    }
   ],
   "source": [
    "l = [0,5,10,15,20,25,30]\n",
    "e = lambda x: x % 2 == 0\n",
    "s1 = set(filter(e,l))          # Set\n",
    "print(s1)\n",
    "s2 = list(filter(e,l))         # List\n",
    "print(s2)\n",
    "s3 = tuple(filter(e,l))        # Tuple\n",
    "print(s3)"
   ]
  },
  {
   "cell_type": "code",
   "execution_count": 13,
   "id": "9b73b55e-4468-4239-b449-21dcc62a6e24",
   "metadata": {},
   "outputs": [
    {
     "name": "stdout",
     "output_type": "stream",
     "text": [
      "[0, 10, 20, 30, 40, 50, 60]\n"
     ]
    }
   ],
   "source": [
    "l = [0,5,10,15,20,25,30]\n",
    "l1 = list(map(lambda x : 2 * x , l))\n",
    "print(l1)"
   ]
  },
  {
   "cell_type": "code",
   "execution_count": 14,
   "id": "da196e79-ef4e-4928-8e2b-316f50516fca",
   "metadata": {},
   "outputs": [
    {
     "name": "stdout",
     "output_type": "stream",
     "text": [
      "[0, 10, 20, 30, 40, 50, 60]\n"
     ]
    }
   ],
   "source": [
    "l = [0,5,10,15,20,25,30]\n",
    "l1 = list(map(lambda x : 2 * x , l))\n",
    "print(l1)"
   ]
  },
  {
   "cell_type": "code",
   "execution_count": 15,
   "id": "e10bd6f8-3906-41f5-8130-50ae066ceb9d",
   "metadata": {},
   "outputs": [
    {
     "name": "stdout",
     "output_type": "stream",
     "text": [
      "[True, False, True, False, True, False, True]\n"
     ]
    }
   ],
   "source": [
    "l = [0,5,10,15,20,25,30]\n",
    "l1 = list(map(lambda x : x % 2 == 0,l))\n",
    "print(l1)  "
   ]
  },
  {
   "cell_type": "code",
   "execution_count": 16,
   "id": "82d5e4e2-0569-41ca-a451-7919691727af",
   "metadata": {},
   "outputs": [
    {
     "name": "stdout",
     "output_type": "stream",
     "text": [
      "Sum is : 15\n"
     ]
    }
   ],
   "source": [
    "from functools import reduce\n",
    "def add(x,y):\n",
    "    return x+y\n",
    "l = [1,2,3,4,5]\n",
    "result = reduce(add,l)\n",
    "print(\"Sum is :\",result)"
   ]
  },
  {
   "cell_type": "code",
   "execution_count": 17,
   "id": "0233ccef-36c9-4f59-9b18-4ae7e41689d8",
   "metadata": {},
   "outputs": [
    {
     "name": "stdout",
     "output_type": "stream",
     "text": [
      "15\n"
     ]
    }
   ],
   "source": [
    "from functools import reduce\n",
    "l = [1,2,3,4,5]\n",
    "result = reduce(lambda x,y:x+y,l)\n",
    "print(result)"
   ]
  },
  {
   "cell_type": "code",
   "execution_count": 18,
   "id": "f47aadfa-7a0d-4104-9416-a4c2c6f0563e",
   "metadata": {},
   "outputs": [
    {
     "name": "stdout",
     "output_type": "stream",
     "text": [
      "5050\n"
     ]
    }
   ],
   "source": [
    "from functools import reduce\n",
    "result = reduce(lambda x,y:x+y,range(1,101))\n",
    "print(result)"
   ]
  },
  {
   "cell_type": "code",
   "execution_count": 19,
   "id": "9b9d4b1e-40a2-44d1-963e-b39b4fb7c3b5",
   "metadata": {},
   "outputs": [
    {
     "name": "stdout",
     "output_type": "stream",
     "text": [
      "12000000\n"
     ]
    }
   ],
   "source": [
    "from functools import reduce\n",
    "l = [10,20,30,40,50]\n",
    "result = reduce(lambda x,y:x*y,l)\n",
    "print(result)"
   ]
  },
  {
   "cell_type": "code",
   "execution_count": 20,
   "id": "274799c0-62ec-4e75-99b0-deff59cbd4fb",
   "metadata": {},
   "outputs": [
    {
     "name": "stdout",
     "output_type": "stream",
     "text": [
      "120\n"
     ]
    }
   ],
   "source": [
    "from functools import reduce                     # from functools import reduce as r \n",
    "result = reduce(lambda x,y:x*y,range(1,6))\n",
    "print(result)             "
   ]
  },
  {
   "cell_type": "code",
   "execution_count": 21,
   "id": "971826a9-2b2f-47b4-91cb-a0c541f7f01c",
   "metadata": {},
   "outputs": [],
   "source": [
    "from functools import * # import all the functions"
   ]
  },
  {
   "cell_type": "code",
   "execution_count": 5,
   "id": "779bd36b-f19d-42fe-a9cc-b654826e07fe",
   "metadata": {},
   "outputs": [
    {
     "name": "stdout",
     "output_type": "stream",
     "text": [
      "24\n"
     ]
    }
   ],
   "source": [
    "from functools import reduce as r\n",
    "result = r(lambda x,y : x*y,range(1,5))\n",
    "print(result)"
   ]
  },
  {
   "cell_type": "code",
   "execution_count": 11,
   "id": "4b090d83-b74d-49e9-b656-3a3536378bd7",
   "metadata": {},
   "outputs": [
    {
     "name": "stdout",
     "output_type": "stream",
     "text": [
      "Good Morning : Nikhil\n",
      "1901494263200\n",
      "1901494263200\n"
     ]
    }
   ],
   "source": [
    "def wish(name):\n",
    "    print(\"Good Morning :\",name)\n",
    "greeting = wish\n",
    "greeting('Nikhil')\n",
    "print(id(wish))\n",
    "print(id(greeting))"
   ]
  },
  {
   "cell_type": "code",
   "execution_count": 18,
   "id": "85d35840-09d1-41ba-a30e-ac4326caa703",
   "metadata": {},
   "outputs": [
    {
     "name": "stdout",
     "output_type": "stream",
     "text": [
      "Outer Function Started\n",
      "Outer Function Calling Inner Function\n",
      "Inner Function Execution\n"
     ]
    }
   ],
   "source": [
    "# Nested Functions\n",
    "def outer():\n",
    "    print(\"Outer Function Started\")\n",
    "    def inner():\n",
    "        print(\"Inner Function Execution\")\n",
    "    print(\"Outer Function Calling Inner Function\")\n",
    "    inner()\n",
    "outer()"
   ]
  },
  {
   "cell_type": "code",
   "execution_count": null,
   "id": "ac4624bd-cc30-4c6b-a256-eb69c1013de6",
   "metadata": {},
   "outputs": [],
   "source": []
  }
 ],
 "metadata": {
  "kernelspec": {
   "display_name": "Python 3 (ipykernel)",
   "language": "python",
   "name": "python3"
  },
  "language_info": {
   "codemirror_mode": {
    "name": "ipython",
    "version": 3
   },
   "file_extension": ".py",
   "mimetype": "text/x-python",
   "name": "python",
   "nbconvert_exporter": "python",
   "pygments_lexer": "ipython3",
   "version": "3.13.5"
  }
 },
 "nbformat": 4,
 "nbformat_minor": 5
}
