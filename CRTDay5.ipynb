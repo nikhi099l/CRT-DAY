{
 "cells": [
  {
   "cell_type": "code",
   "execution_count": 131,
   "id": "1b004048-6ca2-4ff3-b3e6-9b397db31278",
   "metadata": {},
   "outputs": [
    {
     "name": "stdout",
     "output_type": "stream",
     "text": [
      "2296006428672\n",
      "[1, 33, 44, 11, 55]\n",
      "[77, 33, 44, 11, 55]\n",
      "[77, 33, 44, 11, 55]\n"
     ]
    }
   ],
   "source": [
    "# list is mutable\n",
    "\n",
    "\n",
    "l1 = [1,33,44,11,55]\n",
    "print(id(l1))\n",
    "print(l1)\n",
    "\n",
    "l2 = l1                                           # Alicing \n",
    "l2[0] = 77\n",
    "\n",
    "print(l1)\n",
    "print(l2)"
   ]
  },
  {
   "cell_type": "code",
   "execution_count": 132,
   "id": "c657872c-c098-49f7-8f21-23952d0d1a11",
   "metadata": {},
   "outputs": [
    {
     "name": "stdout",
     "output_type": "stream",
     "text": [
      "2296006374848\n",
      "2296006374912\n",
      "[1, 33, 44, 11, 55]\n",
      "[77, 33, 44, 11, 55]\n"
     ]
    }
   ],
   "source": [
    "l1 = [1,33,44,11,55]\n",
    "l2 = l1.copy() #  OR l2 = l1[:]                   # Copy Method\n",
    "\n",
    "print(id(l1))\n",
    "print(id(l2))\n",
    "l2[0] = 77\n",
    "\n",
    "print(l1)\n",
    "print(l2)"
   ]
  },
  {
   "cell_type": "code",
   "execution_count": 133,
   "id": "a376fe6e-b649-43c1-ace8-31c6ce99244f",
   "metadata": {},
   "outputs": [
    {
     "name": "stdout",
     "output_type": "stream",
     "text": [
      "2295991315712\n",
      "2295991355712\n",
      "[1, 33, 44, 11, 55]\n",
      "[77, 33, 44, 11, 55]\n"
     ]
    }
   ],
   "source": [
    "l1 = [1,33,44,11,55]\n",
    "l2 = l1[:]                                        # By using slice operator\n",
    "\n",
    "print(id(l1))\n",
    "print(id(l2))\n",
    "l2[0] = 77\n",
    "\n",
    "print(l1)\n",
    "print(l2)"
   ]
  },
  {
   "cell_type": "code",
   "execution_count": 134,
   "id": "1e4aca12-c981-4d85-9e37-5307f44b7d55",
   "metadata": {},
   "outputs": [
    {
     "name": "stdout",
     "output_type": "stream",
     "text": [
      "[[1, 2, 3], [4, 5, 6]]\n",
      "[[1, 2, 3], [4, 5, 6]]\n"
     ]
    }
   ],
   "source": [
    "x = [[1,2,3],[4,5,6]]                             # Nested list\n",
    "y = x.copy()\n",
    "print(x)\n",
    "print(y)"
   ]
  },
  {
   "cell_type": "code",
   "execution_count": 135,
   "id": "16a46421-98f5-4c2a-adb6-3a3cc71442c2",
   "metadata": {},
   "outputs": [
    {
     "name": "stdout",
     "output_type": "stream",
     "text": [
      "4\n",
      "5\n",
      "3\n"
     ]
    }
   ],
   "source": [
    "#       0       1\n",
    "x = [[1,2,3],[4,5,6]]\n",
    "print(x[1][0])\n",
    "print(x[1][1])\n",
    "print(x[0][2])"
   ]
  },
  {
   "cell_type": "code",
   "execution_count": 136,
   "id": "88e6a058-868f-4870-8c37-984d7add4253",
   "metadata": {},
   "outputs": [
    {
     "name": "stdout",
     "output_type": "stream",
     "text": [
      "4\n",
      "2296006367232\n",
      "2295991807232\n",
      "[[7, 2, 3], [4, 5, 6]]\n",
      "[[7, 2, 3], [4, 5, 6]]\n"
     ]
    }
   ],
   "source": [
    "x = [[1,2,3],[4,5,6]]                             # Nested list\n",
    "print(x[1][0])\n",
    "\n",
    "y = x.copy()\n",
    "\n",
    "print(id(x))\n",
    "print(id(y))\n",
    "\n",
    "x[0][0]=7\n",
    "\n",
    "print(x)\n",
    "print(y)"
   ]
  },
  {
   "cell_type": "code",
   "execution_count": 137,
   "id": "11759254-fc26-4805-81ab-cc7c725e58ce",
   "metadata": {},
   "outputs": [
    {
     "name": "stdout",
     "output_type": "stream",
     "text": [
      "x: [[77, 2, 3], [4, 5, 6]]\n",
      "y: [[77, 2, 3], [4, 5, 6]]\n"
     ]
    }
   ],
   "source": [
    "x = [[1,2,3],[4,5,6]]                              # Nested list\n",
    "y = x.copy()\n",
    "\n",
    "x[0][0]=77\n",
    "\n",
    "print(\"x:\",x)\n",
    "print(\"y:\",y)"
   ]
  },
  {
   "cell_type": "code",
   "execution_count": 138,
   "id": "b2682f91-5afb-473e-8416-f6a447b47d1e",
   "metadata": {},
   "outputs": [
    {
     "name": "stdout",
     "output_type": "stream",
     "text": [
      "x: [[77, 20], [30, 40]]\n",
      "y: [[10, 20], [30, 40]]\n"
     ]
    }
   ],
   "source": [
    "import copy\n",
    "\n",
    "x=[[10,20],[30,40]]\n",
    "y = copy.deepcopy(x)                               # make independent object\n",
    "\n",
    "x[0][0]=77\n",
    "\n",
    "print(\"x:\",x)\n",
    "print(\"y:\",y)"
   ]
  },
  {
   "cell_type": "code",
   "execution_count": 139,
   "id": "1a6976c2-716b-4f48-b17a-40084f02cc5c",
   "metadata": {},
   "outputs": [
    {
     "name": "stdout",
     "output_type": "stream",
     "text": [
      "[10, 20, 30, 40, 20, 60]\n"
     ]
    }
   ],
   "source": [
    "a = [10,20,30]\n",
    "b = [40,20,60]\n",
    "c = a + b\n",
    "print(c)"
   ]
  },
  {
   "cell_type": "code",
   "execution_count": 140,
   "id": "839f8fee-5f60-4d87-ad81-5455623169cb",
   "metadata": {},
   "outputs": [
    {
     "name": "stdout",
     "output_type": "stream",
     "text": [
      "[10, 20, 30, 10, 20, 30, 10, 20, 30]\n"
     ]
    }
   ],
   "source": [
    "a = [10,20,30]\n",
    "c = a * 3\n",
    "print(c)"
   ]
  },
  {
   "cell_type": "code",
   "execution_count": 141,
   "id": "b029ec7a-5ed6-42d0-95eb-9478cb6806de",
   "metadata": {},
   "outputs": [
    {
     "name": "stdout",
     "output_type": "stream",
     "text": [
      "True\n",
      "False\n",
      "True\n",
      "True\n",
      "True\n",
      "False\n"
     ]
    }
   ],
   "source": [
    "x = [\"Dog\",\"Cat\",\"Rat\"]\n",
    "y = [\"Dog\",\"Cat\",\"Rat\"]\n",
    "z = [\"DOG\",\"CAT\",\"RAT\"]\n",
    "print(x == y)\n",
    "print(x == z)\n",
    "print(x != z)\n",
    "print(x >= y)\n",
    "print(x <= y)\n",
    "print(x > y)"
   ]
  },
  {
   "cell_type": "code",
   "execution_count": 142,
   "id": "679f8381-cfb2-4fa5-8c3f-6a4b3e1407ba",
   "metadata": {},
   "outputs": [
    {
     "name": "stdout",
     "output_type": "stream",
     "text": [
      "True\n"
     ]
    }
   ],
   "source": [
    "x = [\"Dog\",\"Cat\",\"Rat\"]                    # ASCII(D) = 68\n",
    "y = [\"Rat\",\"Cat\",\"Dog\"]                    # ASCII(R) = 82\n",
    "print(y>x)"
   ]
  },
  {
   "cell_type": "code",
   "execution_count": 143,
   "id": "c24dca89-a0a1-4faa-b5cb-31e555c367f4",
   "metadata": {},
   "outputs": [
    {
     "name": "stdout",
     "output_type": "stream",
     "text": [
      "False\n"
     ]
    }
   ],
   "source": [
    "x = [\"Dog\",\"Cat\",\"Rat\"]                   # ASCII(o) = 111\n",
    "y = [\"Dat\",\"Cat\",\"Dog\"]                   # ASCII(a) = 97\n",
    "print(y>x)"
   ]
  },
  {
   "cell_type": "code",
   "execution_count": 144,
   "id": "651b05a4-63b9-4438-873e-22bd5552afba",
   "metadata": {},
   "outputs": [
    {
     "name": "stdout",
     "output_type": "stream",
     "text": [
      "False\n",
      "True\n",
      "False\n",
      "True\n",
      "False\n"
     ]
    }
   ],
   "source": [
    "x = [10,20,30]\n",
    "y = [40,50,60,70,100]\n",
    "print(x == y)\n",
    "print(x != y)\n",
    "print(x >= y)\n",
    "print(x <= y)\n",
    "print(x > y)"
   ]
  },
  {
   "cell_type": "code",
   "execution_count": 145,
   "id": "c4d3e9f7-f7fb-4cb1-b4a1-15df38171a79",
   "metadata": {},
   "outputs": [
    {
     "name": "stdout",
     "output_type": "stream",
     "text": [
      "True\n",
      "False\n"
     ]
    }
   ],
   "source": [
    "y = [40,50,60,70]\n",
    "print(40 in y)\n",
    "print(50 not in y)"
   ]
  },
  {
   "cell_type": "code",
   "execution_count": 146,
   "id": "ffde520e-7385-4103-a1f3-4f83314207a7",
   "metadata": {},
   "outputs": [
    {
     "data": {
      "text/plain": [
       "50"
      ]
     },
     "execution_count": 146,
     "metadata": {},
     "output_type": "execute_result"
    }
   ],
   "source": [
    "y = [[40,50],[60,70]]\n",
    "y[0][1]"
   ]
  },
  {
   "cell_type": "code",
   "execution_count": 147,
   "id": "c871afa4-7a5c-49ae-82e3-11ea3e6b3118",
   "metadata": {},
   "outputs": [
    {
     "name": "stdout",
     "output_type": "stream",
     "text": [
      "[[10, 20, 30], [40, 50, 60], [70, 80, 90]]\n",
      "Elements by Row Wise:\n",
      "[10, 20, 30]\n",
      "[40, 50, 60]\n",
      "[70, 80, 90]\n"
     ]
    }
   ],
   "source": [
    "n = [[10,20,30],[40,50,60],[70,80,90]]\n",
    "print(n)\n",
    "print(\"Elements by Row Wise:\")\n",
    "for r in n:\n",
    "    print(r)"
   ]
  },
  {
   "cell_type": "code",
   "execution_count": 148,
   "id": "aef40bd1-ca34-4260-a9ec-564942f6c928",
   "metadata": {},
   "outputs": [
    {
     "name": "stdout",
     "output_type": "stream",
     "text": [
      "1  2  3  \n",
      "4  5  6  \n",
      "7  8  9  \n"
     ]
    }
   ],
   "source": [
    "# Nested list as Matrix\n",
    "n = [[1,2,3],[4,5,6],[7,8,9]]\n",
    "for r in n:\n",
    "    for i in r:\n",
    "        print(i , end =\"  \")\n",
    "    print()"
   ]
  },
  {
   "cell_type": "code",
   "execution_count": 149,
   "id": "d35335a2-0ee5-49a1-986f-69b7f48f0ddc",
   "metadata": {},
   "outputs": [
    {
     "name": "stdout",
     "output_type": "stream",
     "text": [
      "[1, 2, 3, 4, 5, 6, 7, 8, 9, 10]\n",
      "[2, 4, 6, 8, 10]\n",
      "[4, 16, 36, 64, 100]\n",
      "[1, 4, 9, 16, 25, 36, 49, 64, 81, 100]\n",
      "[2, 4, 8, 16, 32]\n"
     ]
    }
   ],
   "source": [
    "# List comprehension\n",
    "# Syntax:  l1 = [Expression for item in list if condition ]\n",
    "\n",
    "l = [x for x in range(1,11)]  \n",
    "print(l)\n",
    "\n",
    "l = [x for x in range(1,11) if x%2 == 0]                        # Even numbers\n",
    "print(l) \n",
    "\n",
    "l = [x**2 for x in range(1,11) if x%2 == 0]                     # square of even numbers\n",
    "print(l) \n",
    "\n",
    "l = [x**2 for x in range(1,11)]  \n",
    "print(l)\n",
    "\n",
    "l = [2**x for x in range(1,6)]\n",
    "print(l)"
   ]
  },
  {
   "cell_type": "code",
   "execution_count": 150,
   "id": "93f0ca3d-1070-4028-a5cf-f760ec185099",
   "metadata": {},
   "outputs": [
    {
     "name": "stdout",
     "output_type": "stream",
     "text": [
      "[2, 4, 6, 78, 44, 34, 46, 48]\n"
     ]
    }
   ],
   "source": [
    "s = [2,4,5,6,7,78,75,44,34,45,46,48,55]\n",
    "m = [x for x in s if x%2==0]\n",
    "print(m)"
   ]
  },
  {
   "cell_type": "code",
   "execution_count": 151,
   "id": "15c08590-4c17-4007-a643-7c955da1e2db",
   "metadata": {},
   "outputs": [
    {
     "name": "stdout",
     "output_type": "stream",
     "text": [
      "['S', 'S', 'A', 'V', 'S', 'R']\n"
     ]
    }
   ],
   "source": [
    "words = ['Shahrukh','Salman','Aamir','Varun','Siddharth','Ranbir']\n",
    "l = [w[0] for w in words]                         # if w == \"Shahrukh\"\n",
    "print(l)"
   ]
  },
  {
   "cell_type": "code",
   "execution_count": 152,
   "id": "71347df5-1d65-4da5-b31f-860c8785ef51",
   "metadata": {},
   "outputs": [
    {
     "name": "stdout",
     "output_type": "stream",
     "text": [
      "[7, 9, 11, 13, 15, 17, 19, 21, 23, 25, 27, 29, 31, 33, 35, 37, 39, 41, 43, 45, 47, 49, 51, 53, 55, 57, 59, 61, 63, 65, 67, 69, 71, 73, 75, 77, 79, 81, 83, 85, 87, 89, 91, 93, 95, 97, 99]\n"
     ]
    }
   ],
   "source": [
    "l1 = [ x for x in range(7,100) if x%2!=0]               # Odd Numbers\n",
    "print(l1)"
   ]
  },
  {
   "cell_type": "code",
   "execution_count": 153,
   "id": "303b8baa-d9fa-479f-8075-154e425c4136",
   "metadata": {},
   "outputs": [
    {
     "name": "stdout",
     "output_type": "stream",
     "text": [
      "[99, 97, 95, 93, 91, 89, 87, 85, 83, 81, 79, 77, 75, 73, 71, 69, 67, 65, 63, 61, 59, 57, 55, 53, 51, 49, 47, 45, 43, 41, 39, 37, 35, 33, 31, 29, 27, 25, 23, 21, 19, 17, 15, 13, 11, 9, 7]\n"
     ]
    }
   ],
   "source": [
    "l1 = [ x for x in range(99,6,-1) if x%2!=0]\n",
    "print(l1)"
   ]
  },
  {
   "cell_type": "code",
   "execution_count": 154,
   "id": "e91342af-393c-403e-a5c0-f504f0d1c227",
   "metadata": {},
   "outputs": [
    {
     "name": "stdout",
     "output_type": "stream",
     "text": [
      "[98, 96, 94, 92, 90, 88, 86, 84, 82, 80, 78, 76, 74, 72, 70, 68, 66, 64, 62, 60, 58, 56, 54, 52, 50, 48, 46, 44, 42, 40, 38, 36, 34, 32, 30, 28, 26, 24, 22, 20, 18, 16, 14, 12, 10, 8]\n"
     ]
    }
   ],
   "source": [
    "l1 = [ x for x in range(99,6,-1) if x%2==0]\n",
    "print(l1)"
   ]
  },
  {
   "cell_type": "code",
   "execution_count": 156,
   "id": "9fd1bf96-b778-41d4-973b-26ec0aef8205",
   "metadata": {},
   "outputs": [
    {
     "name": "stdin",
     "output_type": "stream",
     "text": [
      "Enter a Word :  nikhil\n"
     ]
    },
    {
     "name": "stdout",
     "output_type": "stream",
     "text": [
      "Unique Vowels :  ['i']\n"
     ]
    }
   ],
   "source": [
    "# Identifing vowels in the words\n",
    "\n",
    "w = input(\"Enter a Word : \")\n",
    "v = \"aeiouAEIOU\"\n",
    "u = []\n",
    "for c in w:\n",
    "    if c in v and c not in u:\n",
    "        u.append(c)\n",
    "print(\"Unique Vowels : \", u)"
   ]
  },
  {
   "cell_type": "code",
   "execution_count": 157,
   "id": "b00e9da0-7a27-440f-bcda-7baa02041199",
   "metadata": {},
   "outputs": [],
   "source": [
    "# Tuples are immutable.\n",
    "# Read only version of a list.\n",
    "# Duplicates are allowed.\n",
    "# Tuples are created using round bracket ()"
   ]
  },
  {
   "cell_type": "code",
   "execution_count": 158,
   "id": "5abb2415-ecc2-4cca-b7d4-263a988f91e1",
   "metadata": {},
   "outputs": [
    {
     "name": "stdout",
     "output_type": "stream",
     "text": [
      "Tuple Memory Size :  72\n",
      "List Memory Size :  88\n"
     ]
    }
   ],
   "source": [
    "import sys\n",
    "t = (3,4,5,6)\n",
    "t1 = [3,4,5,6]\n",
    "print(\"Tuple Memory Size : \",sys.getsizeof(t))\n",
    "print(\"List Memory Size : \",sys.getsizeof(t1))"
   ]
  },
  {
   "cell_type": "code",
   "execution_count": 159,
   "id": "6368ff64-e759-4065-8264-59ee25ecdb90",
   "metadata": {},
   "outputs": [
    {
     "name": "stdout",
     "output_type": "stream",
     "text": [
      "2295991065920    2295969168512\n",
      "2296006423344    2295991472976\n"
     ]
    }
   ],
   "source": [
    "x = [2,3,4,5]\n",
    "y = [2,3,4,5]\n",
    "print(id(x),\"  \",id(y))         # id(x) = 2295969135232   And   id(y) = 2295969038016\n",
    "\n",
    "a = (2,3,4,5)\n",
    "b = (2,3,4,5)\n",
    "print(id(a),\"  \",id(b))        # id(a) = 2295991472496    And   id(b) = 2295991471056"
   ]
  },
  {
   "cell_type": "code",
   "execution_count": 160,
   "id": "45546951-5df3-4412-9709-1feb5f91cc70",
   "metadata": {},
   "outputs": [
    {
     "name": "stdout",
     "output_type": "stream",
     "text": [
      "(4, 5, 6)\n",
      "(2, 3)\n",
      "<class 'tuple'>\n",
      "<class 'tuple'>\n"
     ]
    }
   ],
   "source": [
    "b = (2,3,4,5,6,7,8,9,0)\n",
    "print(b[2:5])\n",
    "print(b[:2])\n",
    "print(type(b))                # <class 'tuple'>\n",
    "\n",
    "b = 2,3,4,5                   # Paranthesis is optional\n",
    "print(type(b))                # <class 'tuple'>"
   ]
  },
  {
   "cell_type": "code",
   "execution_count": 161,
   "id": "4e663ec8-8811-453a-990e-30529a7ef9a0",
   "metadata": {},
   "outputs": [
    {
     "name": "stdout",
     "output_type": "stream",
     "text": [
      "<class 'int'>\n"
     ]
    }
   ],
   "source": [
    "x = (9)\n",
    "print(type(x))"
   ]
  },
  {
   "cell_type": "code",
   "execution_count": 162,
   "id": "d679d8f6-088a-4b83-a0e9-ca566c072656",
   "metadata": {},
   "outputs": [
    {
     "name": "stdout",
     "output_type": "stream",
     "text": [
      "<class 'tuple'>\n"
     ]
    }
   ],
   "source": [
    "z = ()\n",
    "print(type(z))"
   ]
  },
  {
   "cell_type": "code",
   "execution_count": 163,
   "id": "4b5db92a-7af9-47f4-a744-1f7d8a3d5663",
   "metadata": {},
   "outputs": [
    {
     "name": "stdout",
     "output_type": "stream",
     "text": [
      "9\n",
      "1\n"
     ]
    }
   ],
   "source": [
    "b = (2,30,4,40,60,20,90,50,0)\n",
    "print(len(b))\n",
    "print(b.count(2))"
   ]
  },
  {
   "cell_type": "code",
   "execution_count": 164,
   "id": "5217acfe-46f9-4886-b100-2cdf47e99700",
   "metadata": {},
   "outputs": [
    {
     "name": "stdout",
     "output_type": "stream",
     "text": [
      "[0, 2, 4, 20, 30, 40, 50, 60, 90]\n"
     ]
    }
   ],
   "source": [
    "b = (2,30,4,40,60,20,90,50,0)\n",
    "c = sorted(b)\n",
    "print(c)"
   ]
  },
  {
   "cell_type": "code",
   "execution_count": 165,
   "id": "8ce41114-0dec-4c04-b7a0-220ef717f049",
   "metadata": {},
   "outputs": [
    {
     "name": "stdout",
     "output_type": "stream",
     "text": [
      "[90, 60, 50, 40, 30, 20, 4, 2, 0]\n"
     ]
    }
   ],
   "source": [
    "b = (2,30,4,40,60,20,90,50,0)\n",
    "c = sorted(b, reverse=True)\n",
    "print(c)"
   ]
  },
  {
   "cell_type": "code",
   "execution_count": 166,
   "id": "19611087-d533-40f7-b84b-feabbae7837b",
   "metadata": {},
   "outputs": [
    {
     "name": "stdout",
     "output_type": "stream",
     "text": [
      "90\n",
      "1\n"
     ]
    }
   ],
   "source": [
    "b = (2,30,4,40,60,20,90,50,1)\n",
    "print(max(b))\n",
    "print(min(b))"
   ]
  },
  {
   "cell_type": "code",
   "execution_count": 167,
   "id": "2e069bb2-3d42-495a-a3ed-ab6f5aae2b03",
   "metadata": {},
   "outputs": [
    {
     "name": "stdout",
     "output_type": "stream",
     "text": [
      "(10, 20, 30, 40)\n",
      "<class 'tuple'>\n"
     ]
    }
   ],
   "source": [
    "# Tuple Packing\n",
    "a = 10\n",
    "b = 20\n",
    "c = 30 \n",
    "d = 40\n",
    "t = a,b,c,d\n",
    "print(t)\n",
    "print(type(t))"
   ]
  },
  {
   "cell_type": "code",
   "execution_count": 168,
   "id": "9ab67c81-2303-4def-ae26-b51a0ad5e414",
   "metadata": {},
   "outputs": [
    {
     "name": "stdout",
     "output_type": "stream",
     "text": [
      "a = 10    b = 20    c = 30    d = 40\n"
     ]
    }
   ],
   "source": [
    "# Tuple Unpacking\n",
    "t = (10,20,30,40)\n",
    "a,b,c,d= t\n",
    "print(\"a =\",a,\"  \",\"b =\",b,\"  \",\"c =\",c,\"  \",\"d =\",d)"
   ]
  },
  {
   "cell_type": "code",
   "execution_count": 169,
   "id": "ab496011-4afb-4e02-b389-f1ff5604e3c2",
   "metadata": {},
   "outputs": [
    {
     "name": "stdout",
     "output_type": "stream",
     "text": [
      "<generator object <genexpr> at 0x0000021694A4B030>\n",
      "1\n",
      "4\n",
      "9\n",
      "16\n",
      "25\n"
     ]
    }
   ],
   "source": [
    "# Tuple Comprehension\n",
    "t = (x**2 for x in range(1,6))\n",
    "print(t)\n",
    "\n",
    "for x in t:\n",
    "    print(x)"
   ]
  },
  {
   "cell_type": "code",
   "execution_count": 46,
   "id": "734ed76f-b67b-4b82-af46-25e57b0180f0",
   "metadata": {},
   "outputs": [],
   "source": [
    "# Set And Dictionary\n",
    "# Set\n",
    "# 1. Duplicates are not allowed\n",
    "# 2. Heterogeneous elements are allowed."
   ]
  },
  {
   "cell_type": "code",
   "execution_count": 48,
   "id": "f82e3147-85ed-4049-a36f-741d26d62c82",
   "metadata": {},
   "outputs": [
    {
     "name": "stdout",
     "output_type": "stream",
     "text": [
      "{1, 2, 3, 4}\n"
     ]
    }
   ],
   "source": [
    "s= {1,2,3,4}\n",
    "print(s)"
   ]
  },
  {
   "cell_type": "code",
   "execution_count": 50,
   "id": "3870e372-461c-44dc-b718-f1edf056085d",
   "metadata": {},
   "outputs": [
    {
     "name": "stdout",
     "output_type": "stream",
     "text": [
      "{40, 10, 20, 90, 30}\n"
     ]
    }
   ],
   "source": [
    "s = {90,20,30,40}\n",
    "s.add(10)\n",
    "print(s)"
   ]
  },
  {
   "cell_type": "code",
   "execution_count": 6,
   "id": "6bfd1e8a-10b7-4911-b1b5-5acf95ea7a45",
   "metadata": {},
   "outputs": [
    {
     "name": "stdout",
     "output_type": "stream",
     "text": [
      "{1, 2, 3, 4}\n"
     ]
    }
   ],
   "source": [
    "s= {1,2,3,4}\n",
    "s1 = s.copy()\n",
    "print(s1)"
   ]
  },
  {
   "cell_type": "code",
   "execution_count": 8,
   "id": "4e55569d-433b-465d-8818-6934c54f67f7",
   "metadata": {},
   "outputs": [
    {
     "name": "stdout",
     "output_type": "stream",
     "text": [
      "1994856529984\n"
     ]
    }
   ],
   "source": [
    "s= {1,2,3,4}\n",
    "print(id(s))"
   ]
  },
  {
   "cell_type": "code",
   "execution_count": 16,
   "id": "7a9eb949-ace9-4392-a5a2-aabad664080b",
   "metadata": {},
   "outputs": [
    {
     "name": "stdout",
     "output_type": "stream",
     "text": [
      "34\n",
      "{12, 54, 23}\n"
     ]
    }
   ],
   "source": [
    "s = {12,23,34,54}\n",
    "print(s.pop())\n",
    "print(s)"
   ]
  },
  {
   "cell_type": "code",
   "execution_count": 21,
   "id": "717b9452-1d89-4a5c-92af-a7a122d35f7d",
   "metadata": {},
   "outputs": [
    {
     "name": "stdout",
     "output_type": "stream",
     "text": [
      "None\n",
      "{34, 12, 23}\n"
     ]
    }
   ],
   "source": [
    "s = {12,23,34,54}\n",
    "print(s.remove(54))                # Discard method shows error if new element is removed.\n",
    "print(s)"
   ]
  },
  {
   "cell_type": "code",
   "execution_count": 20,
   "id": "b5f6b458-1b3e-4cce-b4c7-6ae5c5c1207b",
   "metadata": {},
   "outputs": [
    {
     "name": "stdout",
     "output_type": "stream",
     "text": [
      "None\n",
      "{34, 12, 54, 23}\n"
     ]
    }
   ],
   "source": [
    "s = {12,23,34,54}\n",
    "print(s.discard(53))               # Discard method does not shows error if new element is removed.\n",
    "print(s)"
   ]
  },
  {
   "cell_type": "code",
   "execution_count": 25,
   "id": "d7642044-2875-4596-8bd7-66a24b1535f4",
   "metadata": {},
   "outputs": [
    {
     "name": "stdout",
     "output_type": "stream",
     "text": [
      "set()\n"
     ]
    }
   ],
   "source": [
    "s = {12,23,34,54} \n",
    "s.clear()\n",
    "print(s)"
   ]
  },
  {
   "cell_type": "code",
   "execution_count": 42,
   "id": "e7f7586d-5fb3-432f-b1d4-3cf5f4e7f609",
   "metadata": {},
   "outputs": [
    {
     "name": "stdout",
     "output_type": "stream",
     "text": [
      "{40, 10, 45, 46, 20, 60, 30}\n"
     ]
    }
   ],
   "source": [
    "# Union\n",
    "x = {10,20,30,40}\n",
    "y = {30,45,46,60}\n",
    "x.union(y)\n",
    "print(x | y )"
   ]
  },
  {
   "cell_type": "code",
   "execution_count": 43,
   "id": "139da17a-8303-4b53-96e8-6e3ff9e045da",
   "metadata": {},
   "outputs": [
    {
     "name": "stdout",
     "output_type": "stream",
     "text": [
      "{10, 30}\n"
     ]
    }
   ],
   "source": [
    "# Intersection\n",
    "x = {10,20,30,40}\n",
    "y = {30,10,46,60}\n",
    "x.intersection(y)\n",
    "print(x & y )"
   ]
  },
  {
   "cell_type": "code",
   "execution_count": 44,
   "id": "d7c9aaef-ffea-4e44-9f47-0a8a3025ad8e",
   "metadata": {},
   "outputs": [
    {
     "name": "stdout",
     "output_type": "stream",
     "text": [
      "{40, 20}\n"
     ]
    }
   ],
   "source": [
    "# Difference\n",
    "x = {10,20,30,40}\n",
    "y = {30,10,46,60}\n",
    "x.difference(y)                                   # Discard elements from y\n",
    "print(x - y)"
   ]
  },
  {
   "cell_type": "code",
   "execution_count": 45,
   "id": "5fbecc28-67fe-40df-9a98-720f0e1cfa17",
   "metadata": {},
   "outputs": [
    {
     "name": "stdout",
     "output_type": "stream",
     "text": [
      "{40, 46, 20, 60}\n"
     ]
    }
   ],
   "source": [
    "# Symmetric difference\n",
    "x = {10,20,30,40}\n",
    "y = {30,10,46,60}\n",
    "x.symmetric_difference(y)\n",
    "print(x ^ y)"
   ]
  },
  {
   "cell_type": "code",
   "execution_count": 53,
   "id": "498f4234-aa6f-4103-9919-b4212b931d19",
   "metadata": {},
   "outputs": [
    {
     "name": "stdout",
     "output_type": "stream",
     "text": [
      "{0, 1, 4, 9, 16}\n"
     ]
    }
   ],
   "source": [
    "# Set Comprehension\n",
    "s = {x*x for x in range(5)}\n",
    "print(s)"
   ]
  },
  {
   "cell_type": "code",
   "execution_count": 58,
   "id": "dc32adcf-a46f-409c-b520-0efb10f5e4dd",
   "metadata": {},
   "outputs": [
    {
     "name": "stdout",
     "output_type": "stream",
     "text": [
      "{16, 9, 4}\n"
     ]
    }
   ],
   "source": [
    "s = {x*x for x in range(5) if x >= 2}\n",
    "print(s)"
   ]
  }
 ],
 "metadata": {
  "kernelspec": {
   "display_name": "Python 3 (ipykernel)",
   "language": "python",
   "name": "python3"
  },
  "language_info": {
   "codemirror_mode": {
    "name": "ipython",
    "version": 3
   },
   "file_extension": ".py",
   "mimetype": "text/x-python",
   "name": "python",
   "nbconvert_exporter": "python",
   "pygments_lexer": "ipython3",
   "version": "3.13.5"
  }
 },
 "nbformat": 4,
 "nbformat_minor": 5
}
