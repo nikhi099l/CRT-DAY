{
 "cells": [
  {
   "cell_type": "code",
   "execution_count": null,
   "id": "c2c8ec44-17f4-4cc5-9286-0248b3c4b3cb",
   "metadata": {},
   "outputs": [],
   "source": [
    "FUNCTIONS : \n",
    "1. Built In Functions.\n",
    "2. User defined functions."
   ]
  },
  {
   "cell_type": "code",
   "execution_count": null,
   "id": "997002ed-9e5e-4178-a5ac-f7b826fcdf47",
   "metadata": {},
   "outputs": [],
   "source": [
    "Syntax:\n",
    "def function_name(parameters):            # def : Mandatory\n",
    "    \"\"\"Docstring\"\"\"\n",
    "    # Function Body\n",
    "    return value                          # Optional"
   ]
  },
  {
   "cell_type": "code",
   "execution_count": 97,
   "id": "cb2a4e04-0db3-4857-bc30-563d6515f4ae",
   "metadata": {},
   "outputs": [
    {
     "name": "stdout",
     "output_type": "stream",
     "text": [
      "Hello Good Morning\n",
      "Hello Good Morning\n",
      "Hello Good Morning\n"
     ]
    }
   ],
   "source": [
    "def wish():\n",
    "    print(\"Hello Good Morning\")\n",
    "wish()\n",
    "wish()\n",
    "wish()"
   ]
  },
  {
   "cell_type": "code",
   "execution_count": 98,
   "id": "a1821166-7439-47e6-af64-b032aa0b36b0",
   "metadata": {},
   "outputs": [
    {
     "name": "stdout",
     "output_type": "stream",
     "text": [
      "Hello Harsh Good Morning\n",
      "Hello Ron Good Morning\n"
     ]
    }
   ],
   "source": [
    "def wish(name):\n",
    "    print(\"Hello\",name,\"Good Morning\")\n",
    "wish(\"Harsh\")\n",
    "wish(\"Ron\")"
   ]
  },
  {
   "cell_type": "code",
   "execution_count": 99,
   "id": "1fcb4e80-e36e-4a68-9e73-ccd48009fedd",
   "metadata": {},
   "outputs": [
    {
     "name": "stdout",
     "output_type": "stream",
     "text": [
      "Hello Harsh Good Morning\n",
      "None\n",
      "Hello Harsh Good Morning\n"
     ]
    },
    {
     "data": {
      "text/plain": [
       "140727622436992"
      ]
     },
     "execution_count": 99,
     "metadata": {},
     "output_type": "execute_result"
    }
   ],
   "source": [
    "def wish(name):\n",
    "    print(\"Hello\",name,\"Good Morning\")\n",
    "x=wish(\"Harsh\")\n",
    "print(x)\n",
    "id(wish('Harsh'))"
   ]
  },
  {
   "cell_type": "code",
   "execution_count": 100,
   "id": "6a850772-8748-40b4-abe8-296ccdbcb50f",
   "metadata": {},
   "outputs": [
    {
     "name": "stdout",
     "output_type": "stream",
     "text": [
      "The Square of 4 is 16\n",
      "The Square of 45 is 2025\n"
     ]
    }
   ],
   "source": [
    "def squareIt(number):\n",
    "    print(\"The Square of\",number ,\"is\",number*number)\n",
    "squareIt(4)\n",
    "squareIt(45)"
   ]
  },
  {
   "cell_type": "code",
   "execution_count": 101,
   "id": "99b69702-469b-4fce-a7b7-6e01fd7267d6",
   "metadata": {},
   "outputs": [
    {
     "name": "stdout",
     "output_type": "stream",
     "text": [
      "16\n"
     ]
    }
   ],
   "source": [
    "def squareIt(number):\n",
    "    return number*number     # or number**2\n",
    "x = squareIt(4)\n",
    "print(x)"
   ]
  },
  {
   "cell_type": "code",
   "execution_count": 102,
   "id": "81d366a3-2c7e-4505-aeca-4b7fb78de647",
   "metadata": {},
   "outputs": [
    {
     "name": "stdout",
     "output_type": "stream",
     "text": [
      "9\n"
     ]
    }
   ],
   "source": [
    "def add(x,y):\n",
    "    return x + y\n",
    "result = add(4,5)\n",
    "print(result)"
   ]
  },
  {
   "cell_type": "code",
   "execution_count": 103,
   "id": "b4403091-9291-4ade-80e1-3a6085469544",
   "metadata": {},
   "outputs": [
    {
     "name": "stdout",
     "output_type": "stream",
     "text": [
      "10 is even number\n",
      "15 is odd number\n"
     ]
    }
   ],
   "source": [
    "def even_odd(num):\n",
    "    if num%2==0:\n",
    "        print(num,\"is even number\")\n",
    "    else:\n",
    "        print(num,\"is odd number\")\n",
    "even_odd(10)\n",
    "even_odd(15)"
   ]
  },
  {
   "cell_type": "code",
   "execution_count": 104,
   "id": "66378937-718f-463a-99bb-6330095a9a7f",
   "metadata": {},
   "outputs": [
    {
     "name": "stdout",
     "output_type": "stream",
     "text": [
      "16\n"
     ]
    }
   ],
   "source": [
    "def even_odd(num):\n",
    "    if num%2==0:\n",
    "        return f\"{num} is Even number.\"\n",
    "    else:\n",
    "        return f\"{num} is Odd number.\"\n",
    "print(x)"
   ]
  },
  {
   "cell_type": "code",
   "execution_count": 105,
   "id": "347569bc-c7b6-4bf5-9534-bbe46e673c25",
   "metadata": {},
   "outputs": [
    {
     "name": "stdout",
     "output_type": "stream",
     "text": [
      "120\n"
     ]
    }
   ],
   "source": [
    "def fact(n):\n",
    "    if n==0:\n",
    "        return 1\n",
    "    else:\n",
    "        fact = 1\n",
    "        while n>1:\n",
    "            fact = fact*n\n",
    "            n=n-1\n",
    "        return fact\n",
    "x = fact(5)\n",
    "print(x) "
   ]
  },
  {
   "cell_type": "code",
   "execution_count": 106,
   "id": "b94fd36d-7114-4ef8-b01b-6e72bf5baba7",
   "metadata": {},
   "outputs": [
    {
     "name": "stdout",
     "output_type": "stream",
     "text": [
      "120\n"
     ]
    }
   ],
   "source": [
    "def factorial(n):\n",
    "    if n==0:\n",
    "       return 1\n",
    "    else:\n",
    "       fact = 1  \n",
    "    for i in range(1,n+1):\n",
    "        fact = fact * i\n",
    "    return fact\n",
    "x = fact(5)\n",
    "print(x)    "
   ]
  },
  {
   "cell_type": "code",
   "execution_count": 107,
   "id": "d41892c4-981f-4901-a386-a1ce2e499f03",
   "metadata": {},
   "outputs": [
    {
     "name": "stdout",
     "output_type": "stream",
     "text": [
      "4\n"
     ]
    }
   ],
   "source": [
    "def max(a,b,c):\n",
    "    return a if a>b and a>c else b if b>c else c\n",
    "x = max(2,3,4)\n",
    "print(x)"
   ]
  },
  {
   "cell_type": "code",
   "execution_count": 108,
   "id": "abf80e1b-e80c-4990-be17-c66efcad400d",
   "metadata": {},
   "outputs": [
    {
     "name": "stdout",
     "output_type": "stream",
     "text": [
      "2\n"
     ]
    }
   ],
   "source": [
    "def min(a,b,c):\n",
    "    return a if a<b and a<c else b if b<c else c\n",
    "x = min(2,3,4)\n",
    "print(x)"
   ]
  },
  {
   "cell_type": "code",
   "execution_count": 109,
   "id": "cee0ddeb-65a3-4795-be7a-aad1932c31d9",
   "metadata": {},
   "outputs": [
    {
     "name": "stdout",
     "output_type": "stream",
     "text": [
      "(7, 5)\n"
     ]
    }
   ],
   "source": [
    "def swap(a,b):\n",
    "    c = a\n",
    "    a = b\n",
    "    b = c\n",
    "    return a,b\n",
    "print(swap(5,7))"
   ]
  },
  {
   "cell_type": "code",
   "execution_count": 110,
   "id": "61ea95e8-96dc-48c5-b2b0-6f12867ea390",
   "metadata": {},
   "outputs": [
    {
     "name": "stdout",
     "output_type": "stream",
     "text": [
      "Minimum number is 11 & Maximum number is 33\n"
     ]
    }
   ],
   "source": [
    "x = 11\n",
    "y = 22\n",
    "z = 33\n",
    "print(f'Minimum number is {min(x,y,z)} & Maximum number is {max(x,y,z)}')"
   ]
  },
  {
   "cell_type": "code",
   "execution_count": 111,
   "id": "fa3b8137-856b-4012-941d-eb9cac47df0b",
   "metadata": {},
   "outputs": [
    {
     "name": "stdout",
     "output_type": "stream",
     "text": [
      "(33, 11, 242)\n",
      "Addition is 33\n",
      "Substraction is 11\n",
      "Multiplication is 242\n"
     ]
    }
   ],
   "source": [
    "def arith(a,b):\n",
    "    add = a + b\n",
    "    sub = a - b\n",
    "    pro = a * b\n",
    "    return add,sub,pro\n",
    "x = arith(22,11)\n",
    "print(x)\n",
    "a,s,p = x\n",
    "print(\"Addition is\",a)\n",
    "print(\"Substraction is\",s)\n",
    "print(\"Multiplication is\",p)"
   ]
  },
  {
   "cell_type": "code",
   "execution_count": 6,
   "id": "8bf7434c-fe77-444f-b37e-31ff9310a017",
   "metadata": {},
   "outputs": [
    {
     "name": "stdout",
     "output_type": "stream",
     "text": [
      "(100, 50)\n",
      "<class 'tuple'>\n",
      "Sum is 100\n",
      "Substraction is 50\n"
     ]
    }
   ],
   "source": [
    "def sum_sub(a,b):\n",
    "    sum = a + b\n",
    "    sub = a - b \n",
    "    mul = a * b\n",
    "    return sum,sub,mul,div\n",
    "    \n",
    "t = (100,50)\n",
    "print(t)\n",
    "print(type(t))\n",
    "\n",
    "# Now Tuple Unpacking\n",
    "x,y=t\n",
    "print(f'Sum is {x}')\n",
    "print(f'Substraction is {y}')"
   ]
  },
  {
   "cell_type": "code",
   "execution_count": 122,
   "id": "c6758212-aeb2-4918-82cf-bf8d28bedbf7",
   "metadata": {},
   "outputs": [
    {
     "name": "stdout",
     "output_type": "stream",
     "text": [
      "Hello Ronny Good Evening\n",
      "Hello Nikhil Good Evening\n"
     ]
    }
   ],
   "source": [
    "def greet(person,greeting):\n",
    "    print(\"Hello\",person,greeting)\n",
    "greet(person='Ronny',greeting=\"Good Evening\")\n",
    "greet(greeting=\"Good Evening\",person=\"Nikhil\")"
   ]
  },
  {
   "cell_type": "code",
   "execution_count": 1,
   "id": "5758e717-f4f8-4c43-85c3-fe8eb6c31b49",
   "metadata": {},
   "outputs": [
    {
     "name": "stdout",
     "output_type": "stream",
     "text": [
      "(17, 110, 4.4, 4)\n"
     ]
    }
   ],
   "source": [
    "def arith(a,b):\n",
    "    return a-b,a*b,a/b,a//b\n",
    "x = arith(22,5)\n",
    "print(x)"
   ]
  },
  {
   "cell_type": "code",
   "execution_count": 2,
   "id": "914f4d05-5ede-4050-a8e1-5a9a54afa3a8",
   "metadata": {},
   "outputs": [
    {
     "name": "stdout",
     "output_type": "stream",
     "text": [
      "11 22\n"
     ]
    }
   ],
   "source": [
    "def swap(a,b):\n",
    "    return b,a\n",
    "a,b = swap(22,11)\n",
    "print(a,b)"
   ]
  },
  {
   "cell_type": "code",
   "execution_count": 26,
   "id": "f0adc6f3-e758-4ff6-9235-6bb3d60a164d",
   "metadata": {},
   "outputs": [
    {
     "name": "stdout",
     "output_type": "stream",
     "text": [
      "Hello Guest Good Morning\n",
      "Hello Rahul Good Morning\n",
      "Hello Suraj Good Morning\n",
      "Hello Guest Good Morning\n"
     ]
    }
   ],
   "source": [
    "def wish(name=\"Guest\"):\n",
    "    print(\"Hello\",name,\"Good Morning\")\n",
    "wish()\n",
    "wish('Rahul')\n",
    "wish('Suraj')\n",
    "wish()"
   ]
  },
  {
   "cell_type": "code",
   "execution_count": 25,
   "id": "50799b52-8650-4623-ae88-5091fd79e2bd",
   "metadata": {},
   "outputs": [
    {
     "name": "stdout",
     "output_type": "stream",
     "text": [
      "[77, [4, 5, 6]]\n"
     ]
    }
   ],
   "source": [
    "x = [[1,2,3],[4,5,6]]\n",
    "y = x.copy()        # Shallow Copy\n",
    "y = [[1,2,3],[4,5,6]]\n",
    "y[0]=77\n",
    "print(y)"
   ]
  },
  {
   "cell_type": "code",
   "execution_count": 24,
   "id": "ded3667d-a72d-40eb-8b6e-1d2e132655dd",
   "metadata": {},
   "outputs": [
    {
     "name": "stdout",
     "output_type": "stream",
     "text": [
      "[[77, 2, 3], [4, 5, 6]]\n"
     ]
    }
   ],
   "source": [
    "import copy\n",
    "x = [[1,2,3],[4,5,6]]\n",
    "y = copy.copy(x)     # OR copy.deepcopy(x)       \n",
    "y = [[1,2,3],[4,5,6]]\n",
    "y[0][0]=77\n",
    "print(y)"
   ]
  },
  {
   "cell_type": "code",
   "execution_count": 23,
   "id": "7f6c2ece-b863-43cd-a525-51640c3fad0b",
   "metadata": {},
   "outputs": [
    {
     "name": "stdout",
     "output_type": "stream",
     "text": [
      "(1, 2, 3, 45, 5, 6)\n"
     ]
    }
   ],
   "source": [
    "def add(*p):            # * means multiple values\n",
    "    print(p)\n",
    "add(1,2,3,45,5,6)"
   ]
  },
  {
   "cell_type": "code",
   "execution_count": 22,
   "id": "bee2cd45-0edf-4a4a-909d-1d12dab6ea68",
   "metadata": {},
   "outputs": [
    {
     "name": "stdout",
     "output_type": "stream",
     "text": [
      "21\n"
     ]
    }
   ],
   "source": [
    "def add(*p):\n",
    "    s = 0\n",
    "    for x in p:\n",
    "        s = s + x\n",
    "    return s\n",
    "y = add(1,2,3,4,5,6)\n",
    "print(y)"
   ]
  },
  {
   "cell_type": "code",
   "execution_count": 32,
   "id": "ed75996f-d3e8-4d50-a9bf-f6c2b4019c94",
   "metadata": {},
   "outputs": [
    {
     "name": "stdout",
     "output_type": "stream",
     "text": [
      "<class 'tuple'>\n"
     ]
    }
   ],
   "source": [
    "def add(*p):\n",
    "    print(type(p))                                \n",
    "y = add(1,2,3,4,5,6)"
   ]
  }
 ],
 "metadata": {
  "kernelspec": {
   "display_name": "Python 3 (ipykernel)",
   "language": "python",
   "name": "python3"
  },
  "language_info": {
   "codemirror_mode": {
    "name": "ipython",
    "version": 3
   },
   "file_extension": ".py",
   "mimetype": "text/x-python",
   "name": "python",
   "nbconvert_exporter": "python",
   "pygments_lexer": "ipython3",
   "version": "3.13.5"
  }
 },
 "nbformat": 4,
 "nbformat_minor": 5
}
