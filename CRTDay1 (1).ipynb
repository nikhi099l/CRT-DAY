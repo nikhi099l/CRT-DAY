{
 "cells": [
  {
   "cell_type": "code",
   "execution_count": 1,
   "id": "3cc14181-bcd0-448d-b04e-f4612fbdb752",
   "metadata": {},
   "outputs": [
    {
     "name": "stdin",
     "output_type": "stream",
     "text": [
      "Enter 1st no: 3\n",
      "Enter 2nd no: 5\n"
     ]
    },
    {
     "name": "stdout",
     "output_type": "stream",
     "text": [
      "8\n"
     ]
    }
   ],
   "source": [
    "x = int(input('Enter 1st no:'))\n",
    "y = int(input('Enter 2nd no:'))\n",
    "print(x+y)"
   ]
  },
  {
   "cell_type": "code",
   "execution_count": 3,
   "id": "e7770b63-4525-4700-9e60-2831feb81c06",
   "metadata": {},
   "outputs": [
    {
     "name": "stdin",
     "output_type": "stream",
     "text": [
      "Enter 1st number: 2.5\n",
      "Enter 2nd number: .25\n"
     ]
    },
    {
     "name": "stdout",
     "output_type": "stream",
     "text": [
      "2.75\n"
     ]
    }
   ],
   "source": [
    "x = float(input(\"Enter 1st number:\"))\n",
    "y = float(input(\"Enter 2nd number:\"))\n",
    "print(x+y)"
   ]
  },
  {
   "cell_type": "code",
   "execution_count": 1,
   "id": "f3a4eab5-d0f8-4946-9636-c356a7602bd1",
   "metadata": {},
   "outputs": [
    {
     "name": "stdout",
     "output_type": "stream",
     "text": [
      "140727799035080\n",
      "140727799037384\n",
      "140727799035048\n",
      "2457661837936\n"
     ]
    }
   ],
   "source": [
    "a = 10\n",
    "print(id(a))\n",
    "\n",
    "b = 82\n",
    "print(id(b))\n",
    "\n",
    "c = 9\n",
    "print(id(c))\n",
    "\n",
    "a = 11.5\n",
    "print(id(a))"
   ]
  },
  {
   "cell_type": "code",
   "execution_count": 7,
   "id": "1e0145af-1214-49cb-b216-6337e8acd70d",
   "metadata": {},
   "outputs": [
    {
     "name": "stdout",
     "output_type": "stream",
     "text": [
      "2\n",
      "1\n",
      "1\n",
      "0\n"
     ]
    }
   ],
   "source": [
    "print( True + True )                     # True = 1         False = 0\n",
    "print( True + False )                     # True = 1         False = 0\n",
    "print( False + True )                     # True = 1         False = 0\n",
    "print( False + False )                     # True = 1         False = 0"
   ]
  },
  {
   "cell_type": "code",
   "execution_count": 9,
   "id": "2e774742-5231-4534-a412-2615e4633888",
   "metadata": {},
   "outputs": [
    {
     "name": "stdout",
     "output_type": "stream",
     "text": [
      "<class 'str'>\n",
      "<class 'int'>\n",
      "<class 'float'>\n"
     ]
    }
   ],
   "source": [
    "S = 'engg'\n",
    "print(type(S))\n",
    "\n",
    "S2 = 3\n",
    "print(type(S2))\n",
    "\n",
    "S3 = 2.5\n",
    "print(type(S3))"
   ]
  },
  {
   "cell_type": "code",
   "execution_count": 10,
   "id": "7879cb64-e693-4dec-8252-5eba76a8a83f",
   "metadata": {},
   "outputs": [
    {
     "name": "stdout",
     "output_type": "stream",
     "text": [
      "Sipna\n",
      "      College of\n",
      "      Engineering\n"
     ]
    }
   ],
   "source": [
    "S4 = '''Sipna\n",
    "      College of                                        \n",
    "      Engineering'''\n",
    "print(S4)       # Multiline String With Triple double or single quotes "
   ]
  },
  {
   "cell_type": "code",
   "execution_count": 12,
   "id": "b7c0ad27-a9e5-4b57-bb3c-7312e7bc6c7d",
   "metadata": {},
   "outputs": [
    {
     "name": "stdout",
     "output_type": "stream",
     "text": [
      "Sipna\n",
      "      College of\n",
      "      Engineering.\n"
     ]
    }
   ],
   "source": [
    "S4 = \"\"\"Sipna\n",
    "      College of\n",
    "      Engineering.\"\"\"\n",
    "print(S4)      # Multiline String With Triple double or single quotes "
   ]
  },
  {
   "cell_type": "code",
   "execution_count": 5,
   "id": "da5221cd-977c-4c86-8d65-27770f782ed9",
   "metadata": {},
   "outputs": [
    {
     "name": "stdout",
     "output_type": "stream",
     "text": [
      "My 'name' is Ravi.\n",
      "It's called \"Python\" Language\n"
     ]
    }
   ],
   "source": [
    "#Ex 1 : To Highlight specific word\n",
    "S = \"My 'name' is Ravi.\"\n",
    "print(S)\n",
    "\n",
    "#Ex 2 : Both single and double Quotes(Usinf escape sequeces \\ )\n",
    "S = 'It\\'s called \"Python\" Language'\n",
    "print(S)"
   ]
  },
  {
   "cell_type": "code",
   "execution_count": 6,
   "id": "fbe656e0-9e50-475c-9900-6c25dd898b44",
   "metadata": {},
   "outputs": [
    {
     "name": "stdout",
     "output_type": "stream",
     "text": [
      "my name is Ram\n",
      "my name is Ram\n"
     ]
    }
   ],
   "source": [
    "name = 'Ram'\n",
    "print('my name is',name)\n",
    "print(f'my name is {name}')"
   ]
  },
  {
   "cell_type": "code",
   "execution_count": 12,
   "id": "ab1b011e-a8bd-4507-9f09-cdb793eee595",
   "metadata": {},
   "outputs": [
    {
     "name": "stdout",
     "output_type": "stream",
     "text": [
      "Sum of 10 + 20 = 30\n",
      "Sum of 10 + 20 = 30\n",
      "Sum of 10 + 20 = 30\n"
     ]
    }
   ],
   "source": [
    "x = 10\n",
    "y = 20\n",
    "print(f'Sum of {x} + {y} = {x+y}')\n",
    "print(f'Sum of {x} + {y} = {x+y}')\n",
    "print('Sum of',x,'+',y,'=',x+y)"
   ]
  },
  {
   "cell_type": "code",
   "execution_count": 12,
   "id": "096844f7-1fe5-4e17-b06e-af8fb482c9be",
   "metadata": {},
   "outputs": [
    {
     "name": "stdout",
     "output_type": "stream",
     "text": [
      "gin\n",
      "n\n",
      "e\n",
      "g\n"
     ]
    }
   ],
   "source": [
    "s1 = 'engineering'\n",
    "print(s1[2:5])\n",
    "print(s1[-2])\n",
    "print(s1[-11])\n",
    "print(s1[-9])"
   ]
  },
  {
   "cell_type": "code",
   "execution_count": 13,
   "id": "49478c29-1eed-4141-b2ca-d37aa95c25cc",
   "metadata": {},
   "outputs": [
    {
     "name": "stdout",
     "output_type": "stream",
     "text": [
      "8\n"
     ]
    }
   ],
   "source": [
    "S2 = 'Amravati'\n",
    "print(len(S2))"
   ]
  },
  {
   "cell_type": "code",
   "execution_count": 14,
   "id": "e54d0a8b-6506-4203-bc69-e6b160cc4ec8",
   "metadata": {},
   "outputs": [
    {
     "ename": "TypeError",
     "evalue": "'str' object does not support item assignment",
     "output_type": "error",
     "traceback": [
      "\u001b[1;31m---------------------------------------------------------------------------\u001b[0m",
      "\u001b[1;31mTypeError\u001b[0m                                 Traceback (most recent call last)",
      "Cell \u001b[1;32mIn[14], line 2\u001b[0m\n\u001b[0;32m      1\u001b[0m S2 \u001b[38;5;241m=\u001b[39m \u001b[38;5;124m'\u001b[39m\u001b[38;5;124mAmravati\u001b[39m\u001b[38;5;124m'\u001b[39m\n\u001b[1;32m----> 2\u001b[0m S2[\u001b[38;5;241m0\u001b[39m]\u001b[38;5;241m=\u001b[39m\u001b[38;5;124m\"\u001b[39m\u001b[38;5;124ma\u001b[39m\u001b[38;5;124m\"\u001b[39m\n",
      "\u001b[1;31mTypeError\u001b[0m: 'str' object does not support item assignment"
     ]
    }
   ],
   "source": [
    "S2 = 'Amravati'\n",
    "S2[0]=\"a\" # 'str' object does not support item assignment"
   ]
  },
  {
   "cell_type": "code",
   "execution_count": 15,
   "id": "e91981fb-f2ab-4a17-b81e-e2b7730f7e28",
   "metadata": {},
   "outputs": [
    {
     "name": "stdout",
     "output_type": "stream",
     "text": [
      "int() Examples\n",
      "10\n",
      "24\n",
      "\n"
     ]
    }
   ],
   "source": [
    "#1. int() Examples\n",
    "print(\"int() Examples\")\n",
    "print(int(10.6))\n",
    "print(int(\"24\"))\n",
    "#print(int(\"24.3\"))                           # invalid: String float to int ( uncomment to see error)\n",
    "print()"
   ]
  },
  {
   "cell_type": "code",
   "execution_count": 16,
   "id": "1f97e6d0-530f-4027-a38f-7dfba43b19c4",
   "metadata": {},
   "outputs": [
    {
     "name": "stdout",
     "output_type": "stream",
     "text": [
      "Float() Examples:\n",
      "10.0\n",
      "22.4\n",
      "\n"
     ]
    }
   ],
   "source": [
    "#2 float() examples\n",
    "print(\"Float() Examples:\")\n",
    "print(float(10))\n",
    "print(float(\"22.4\"))\n",
    "print()"
   ]
  },
  {
   "cell_type": "code",
   "execution_count": 19,
   "id": "120cca1e-faf8-4065-8152-70725c2d4093",
   "metadata": {},
   "outputs": [
    {
     "name": "stdout",
     "output_type": "stream",
     "text": [
      "complex() examples:\n",
      "(2+0j)\n",
      "(2+3j)\n",
      "(4+5j)\n"
     ]
    }
   ],
   "source": [
    "#3 complex() Examples\n",
    "print(\"complex() examples:\")\n",
    "print(complex(2))\n",
    "print(complex(2,3))\n",
    "print(complex(\"4+5j\"))"
   ]
  },
  {
   "cell_type": "code",
   "execution_count": 21,
   "id": "8b5ec408-9fcf-458f-96d7-90dcdf8c0364",
   "metadata": {},
   "outputs": [
    {
     "name": "stdout",
     "output_type": "stream",
     "text": [
      "bool() examples:\n",
      "True\n",
      "False\n",
      "False\n",
      "True\n",
      "False\n",
      "True\n",
      "\n"
     ]
    }
   ],
   "source": [
    "#4 bool() examples\n",
    "print(\"bool() examples:\")\n",
    "print(bool(1))\n",
    "print(bool(\"\"))       # Empty is treated as a false\n",
    "print(bool(0))\n",
    "print(bool(\"Hello\"))\n",
    "print(bool([]))\n",
    "print(bool([1,2,3]))\n",
    "print()"
   ]
  },
  {
   "cell_type": "code",
   "execution_count": 15,
   "id": "bbc34258-969f-4a2f-b87e-7fdbdd948a1b",
   "metadata": {},
   "outputs": [
    {
     "name": "stdin",
     "output_type": "stream",
     "text": [
      "Enter Employee ID (EID): 32265\n",
      "Enter Employee Name (ENAME): nikhil\n",
      "Enter Employee Address (EADD): ninghoy\n",
      "Enter Employee Salary (ESAL): 85000000\n",
      "Is the employee married? (yes/no): no\n"
     ]
    },
    {
     "name": "stdout",
     "output_type": "stream",
     "text": [
      "--- Employee Details ---\n",
      "Employee ID : 32265\n",
      "Employee Name : nikhil\n",
      "Employee Address : ninghoy\n",
      "Employee Salary : 85000000.0\n",
      "Married : no\n"
     ]
    }
   ],
   "source": [
    "eid = eval(input(\"Enter Employee ID (EID):\")) # eval()\n",
    "ename = (input(\"Enter Employee Name (ENAME):\"))\n",
    "eadd = (input(\"Enter Employee Address (EADD):\"))\n",
    "esal = float(input(\"Enter Employee Salary (ESAL):\"))\n",
    "married = (input(\"Is the employee married? (yes/no):\"))\n",
    "\n",
    "print(\"--- Employee Details ---\")\n",
    "print(\"Employee ID :\", eid)\n",
    "print(\"Employee Name :\", ename)\n",
    "print(\"Employee Address :\", eadd)\n",
    "print(\"Employee Salary :\", esal)\n",
    "print(\"Married :\", married)"
   ]
  },
  {
   "cell_type": "code",
   "execution_count": 24,
   "id": "aef186a5-1a63-4c4b-9e64-18c99810fa22",
   "metadata": {},
   "outputs": [
    {
     "name": "stdout",
     "output_type": "stream",
     "text": [
      "60\n"
     ]
    }
   ],
   "source": [
    "x= eval('10+20+30')\n",
    "print(x)"
   ]
  },
  {
   "cell_type": "code",
   "execution_count": 23,
   "id": "af0b089a-5d8d-4e46-aa79-74eb6a8d4a57",
   "metadata": {},
   "outputs": [
    {
     "name": "stdin",
     "output_type": "stream",
     "text": [
      "Enter list: 2\n"
     ]
    },
    {
     "name": "stdout",
     "output_type": "stream",
     "text": [
      "<class 'int'>\n",
      "\n"
     ]
    }
   ],
   "source": [
    "n= eval(input('Enter list:'))\n",
    "print(type(n))\n",
    "print()\n"
   ]
  },
  {
   "cell_type": "code",
   "execution_count": 16,
   "id": "b3947839-f24a-43f8-9958-3bf39bcc70ac",
   "metadata": {},
   "outputs": [
    {
     "name": "stdout",
     "output_type": "stream",
     "text": [
      "True\n"
     ]
    }
   ],
   "source": [
    "print(bool(\"Amravati\"))               # non empty is treated as True"
   ]
  }
 ],
 "metadata": {
  "kernelspec": {
   "display_name": "Python 3 (ipykernel)",
   "language": "python",
   "name": "python3"
  },
  "language_info": {
   "codemirror_mode": {
    "name": "ipython",
    "version": 3
   },
   "file_extension": ".py",
   "mimetype": "text/x-python",
   "name": "python",
   "nbconvert_exporter": "python",
   "pygments_lexer": "ipython3",
   "version": "3.13.5"
  }
 },
 "nbformat": 4,
 "nbformat_minor": 5
}
