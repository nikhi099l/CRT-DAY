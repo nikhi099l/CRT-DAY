{
 "cells": [
  {
   "cell_type": "code",
   "execution_count": 11,
   "id": "86a28c14-77e8-4858-9e3e-2d02b552dfb8",
   "metadata": {},
   "outputs": [
    {
     "name": "stdout",
     "output_type": "stream",
     "text": [
      "65\n",
      "97\n",
      "True\n",
      "True\n",
      "68\n",
      "100\n",
      "True\n",
      "True\n",
      "True\n",
      "False\n",
      "False\n"
     ]
    }
   ],
   "source": [
    "print(ord('A'))           # Ascii value of capital \"A\"\n",
    "print(ord(\"a\"))           # Ascii value of capital \"a\"\n",
    "print('abcd'>'abcD')\n",
    "print('a'>'A')\n",
    "print(ord('D'))           # Ascii value of capital \"D\"\n",
    "print(ord(\"d\"))           # Ascii value of capital \"d\"\n",
    "print('d'>'D')\n",
    "print(True<4)\n",
    "print(10 < 20 < 30)\n",
    "print(10 < 20 < 30 > 40)\n",
    "print('True'==1)"
   ]
  },
  {
   "cell_type": "code",
   "execution_count": 18,
   "id": "e92f773d-382d-44a3-8480-27c4514b7d5c",
   "metadata": {},
   "outputs": [
    {
     "name": "stdout",
     "output_type": "stream",
     "text": [
      "False\n",
      "True\n",
      "True\n",
      "False\n",
      "False\n",
      "0\n",
      "branch\n",
      "\n"
     ]
    }
   ],
   "source": [
    "print(not 10)         #not True #False\n",
    "print(not 0)          #not False #True\n",
    "print(not '')\n",
    "print(not '  ')\n",
    "#if x is true then result is y\n",
    "#if x is false then result is x\n",
    "print(not 'Engineer')\n",
    "print(0 and 20)\n",
    "print('entc' and 'branch')\n",
    "print('' and 'college')"
   ]
  },
  {
   "cell_type": "code",
   "execution_count": 22,
   "id": "9d7072e1-cb8f-4d59-aef5-743e9d3112c5",
   "metadata": {},
   "outputs": [
    {
     "name": "stdout",
     "output_type": "stream",
     "text": [
      "10\n",
      "20\n",
      "entc\n",
      "college\n"
     ]
    }
   ],
   "source": [
    "#if x is true then result is x\n",
    "#if x is false then result is y\n",
    "print(10 or 20)\n",
    "print(0 or 20)\n",
    "print('entc' or 'branch')\n",
    "print('' or 'college')"
   ]
  },
  {
   "cell_type": "code",
   "execution_count": 26,
   "id": "d32ac6ce-ae6c-42b8-aed2-f0550cc33da5",
   "metadata": {},
   "outputs": [
    {
     "name": "stdin",
     "output_type": "stream",
     "text": [
      "Enter 1st number: 11\n",
      "Enter 2nd number: 22\n"
     ]
    },
    {
     "name": "stdout",
     "output_type": "stream",
     "text": [
      "22\n"
     ]
    }
   ],
   "source": [
    "n1 = int(input('Enter 1st number:'))\n",
    "n2 = int(input('Enter 2nd number:'))\n",
    "max = n1 if n1>n2 else n2\n",
    "print(max)"
   ]
  },
  {
   "cell_type": "code",
   "execution_count": 2,
   "id": "939795b1-bb00-476a-938d-b4d04a1f3d2b",
   "metadata": {},
   "outputs": [
    {
     "name": "stdout",
     "output_type": "stream",
     "text": [
      "33\n"
     ]
    }
   ],
   "source": [
    "a=11 \n",
    "b=22\n",
    "c=33                                                                      # a if a>b and a>c                                             \n",
    "max = a if a>b and a>c else b if b>c else c                             # else b>c if b>c \n",
    "print(max)                                                                # else c"
   ]
  },
  {
   "cell_type": "code",
   "execution_count": 32,
   "id": "19bf1625-3b85-4b8b-94d4-4d1ee91f5c5d",
   "metadata": {},
   "outputs": [
    {
     "name": "stdin",
     "output_type": "stream",
     "text": [
      "Enter 1st number: 22\n",
      "Enter 2nd number: 55\n",
      "Enter 3rd number: 1\n"
     ]
    },
    {
     "name": "stdout",
     "output_type": "stream",
     "text": [
      "1\n"
     ]
    }
   ],
   "source": [
    "a = int(input('Enter 1st number:'))\n",
    "b = int(input('Enter 2nd number:'))\n",
    "c = int(input('Enter 3rd number:'))\n",
    "min = a if a<b and a<c else b if b<a else c\n",
    "print(min)"
   ]
  },
  {
   "cell_type": "code",
   "execution_count": 38,
   "id": "3bd849a1-893e-419d-9dfc-8708df579074",
   "metadata": {},
   "outputs": [
    {
     "name": "stdout",
     "output_type": "stream",
     "text": [
      "Paranthesis\n",
      "20\n",
      "14\n",
      "Exponention\n",
      "512\n",
      "Bitwise\n",
      "3\n"
     ]
    }
   ],
   "source": [
    "#Order of precedence\n",
    "#1. paranthesis\n",
    "print(\"Paranthesis\")\n",
    "print((2+3)*4)\n",
    "print(2+3*4)\n",
    "\n",
    "#2. Exponention\n",
    "print(\"Exponention\")\n",
    "print(2**3**2)\n",
    "\n",
    "#3. Bitwise\n",
    "print(\"Bitwise\")\n",
    "print(5&3|2)           #bitwise"
   ]
  },
  {
   "cell_type": "code",
   "execution_count": 42,
   "id": "5c4fb951-1fb8-4b7b-bd51-ce31086136b1",
   "metadata": {},
   "outputs": [
    {
     "data": {
      "text/plain": [
       "['__doc__',\n",
       " '__loader__',\n",
       " '__name__',\n",
       " '__package__',\n",
       " '__spec__',\n",
       " 'acos',\n",
       " 'acosh',\n",
       " 'asin',\n",
       " 'asinh',\n",
       " 'atan',\n",
       " 'atan2',\n",
       " 'atanh',\n",
       " 'cbrt',\n",
       " 'ceil',\n",
       " 'comb',\n",
       " 'copysign',\n",
       " 'cos',\n",
       " 'cosh',\n",
       " 'degrees',\n",
       " 'dist',\n",
       " 'e',\n",
       " 'erf',\n",
       " 'erfc',\n",
       " 'exp',\n",
       " 'exp2',\n",
       " 'expm1',\n",
       " 'fabs',\n",
       " 'factorial',\n",
       " 'floor',\n",
       " 'fmod',\n",
       " 'frexp',\n",
       " 'fsum',\n",
       " 'gamma',\n",
       " 'gcd',\n",
       " 'hypot',\n",
       " 'inf',\n",
       " 'isclose',\n",
       " 'isfinite',\n",
       " 'isinf',\n",
       " 'isnan',\n",
       " 'isqrt',\n",
       " 'lcm',\n",
       " 'ldexp',\n",
       " 'lgamma',\n",
       " 'log',\n",
       " 'log10',\n",
       " 'log1p',\n",
       " 'log2',\n",
       " 'modf',\n",
       " 'nan',\n",
       " 'nextafter',\n",
       " 'perm',\n",
       " 'pi',\n",
       " 'pow',\n",
       " 'prod',\n",
       " 'radians',\n",
       " 'remainder',\n",
       " 'sin',\n",
       " 'sinh',\n",
       " 'sqrt',\n",
       " 'sumprod',\n",
       " 'tan',\n",
       " 'tanh',\n",
       " 'tau',\n",
       " 'trunc',\n",
       " 'ulp']"
      ]
     },
     "execution_count": 42,
     "metadata": {},
     "output_type": "execute_result"
    }
   ],
   "source": [
    "import math\n",
    "dir(math)"
   ]
  },
  {
   "cell_type": "code",
   "execution_count": 41,
   "id": "1a29b6ec-7355-415f-a7de-55ba495c8e2e",
   "metadata": {},
   "outputs": [
    {
     "data": {
      "text/plain": [
       "['DirEntry',\n",
       " 'EX_OK',\n",
       " 'F_OK',\n",
       " 'GenericAlias',\n",
       " 'Mapping',\n",
       " 'MutableMapping',\n",
       " 'O_APPEND',\n",
       " 'O_BINARY',\n",
       " 'O_CREAT',\n",
       " 'O_EXCL',\n",
       " 'O_NOINHERIT',\n",
       " 'O_RANDOM',\n",
       " 'O_RDONLY',\n",
       " 'O_RDWR',\n",
       " 'O_SEQUENTIAL',\n",
       " 'O_SHORT_LIVED',\n",
       " 'O_TEMPORARY',\n",
       " 'O_TEXT',\n",
       " 'O_TRUNC',\n",
       " 'O_WRONLY',\n",
       " 'P_DETACH',\n",
       " 'P_NOWAIT',\n",
       " 'P_NOWAITO',\n",
       " 'P_OVERLAY',\n",
       " 'P_WAIT',\n",
       " 'PathLike',\n",
       " 'R_OK',\n",
       " 'SEEK_CUR',\n",
       " 'SEEK_END',\n",
       " 'SEEK_SET',\n",
       " 'TMP_MAX',\n",
       " 'W_OK',\n",
       " 'X_OK',\n",
       " '_AddedDllDirectory',\n",
       " '_Environ',\n",
       " '__all__',\n",
       " '__builtins__',\n",
       " '__doc__',\n",
       " '__file__',\n",
       " '__loader__',\n",
       " '__name__',\n",
       " '__package__',\n",
       " '__spec__',\n",
       " '_check_methods',\n",
       " '_execvpe',\n",
       " '_exists',\n",
       " '_exit',\n",
       " '_fspath',\n",
       " '_get_exports_list',\n",
       " '_walk_symlinks_as_files',\n",
       " '_wrap_close',\n",
       " 'abc',\n",
       " 'abort',\n",
       " 'access',\n",
       " 'add_dll_directory',\n",
       " 'altsep',\n",
       " 'chdir',\n",
       " 'chmod',\n",
       " 'close',\n",
       " 'closerange',\n",
       " 'cpu_count',\n",
       " 'curdir',\n",
       " 'defpath',\n",
       " 'device_encoding',\n",
       " 'devnull',\n",
       " 'dup',\n",
       " 'dup2',\n",
       " 'environ',\n",
       " 'error',\n",
       " 'execl',\n",
       " 'execle',\n",
       " 'execlp',\n",
       " 'execlpe',\n",
       " 'execv',\n",
       " 'execve',\n",
       " 'execvp',\n",
       " 'execvpe',\n",
       " 'extsep',\n",
       " 'fdopen',\n",
       " 'fsdecode',\n",
       " 'fsencode',\n",
       " 'fspath',\n",
       " 'fstat',\n",
       " 'fsync',\n",
       " 'ftruncate',\n",
       " 'get_blocking',\n",
       " 'get_exec_path',\n",
       " 'get_handle_inheritable',\n",
       " 'get_inheritable',\n",
       " 'get_terminal_size',\n",
       " 'getcwd',\n",
       " 'getcwdb',\n",
       " 'getenv',\n",
       " 'getlogin',\n",
       " 'getpid',\n",
       " 'getppid',\n",
       " 'isatty',\n",
       " 'kill',\n",
       " 'linesep',\n",
       " 'link',\n",
       " 'listdir',\n",
       " 'listdrives',\n",
       " 'listmounts',\n",
       " 'listvolumes',\n",
       " 'lseek',\n",
       " 'lstat',\n",
       " 'makedirs',\n",
       " 'mkdir',\n",
       " 'name',\n",
       " 'open',\n",
       " 'pardir',\n",
       " 'path',\n",
       " 'pathsep',\n",
       " 'pipe',\n",
       " 'popen',\n",
       " 'putenv',\n",
       " 'read',\n",
       " 'readlink',\n",
       " 'remove',\n",
       " 'removedirs',\n",
       " 'rename',\n",
       " 'renames',\n",
       " 'replace',\n",
       " 'rmdir',\n",
       " 'scandir',\n",
       " 'sep',\n",
       " 'set_blocking',\n",
       " 'set_handle_inheritable',\n",
       " 'set_inheritable',\n",
       " 'spawnl',\n",
       " 'spawnle',\n",
       " 'spawnv',\n",
       " 'spawnve',\n",
       " 'st',\n",
       " 'startfile',\n",
       " 'stat',\n",
       " 'stat_result',\n",
       " 'statvfs_result',\n",
       " 'strerror',\n",
       " 'supports_bytes_environ',\n",
       " 'supports_dir_fd',\n",
       " 'supports_effective_ids',\n",
       " 'supports_fd',\n",
       " 'supports_follow_symlinks',\n",
       " 'symlink',\n",
       " 'sys',\n",
       " 'system',\n",
       " 'terminal_size',\n",
       " 'times',\n",
       " 'times_result',\n",
       " 'truncate',\n",
       " 'umask',\n",
       " 'uname_result',\n",
       " 'unlink',\n",
       " 'unsetenv',\n",
       " 'urandom',\n",
       " 'utime',\n",
       " 'waitpid',\n",
       " 'waitstatus_to_exitcode',\n",
       " 'walk',\n",
       " 'write']"
      ]
     },
     "execution_count": 41,
     "metadata": {},
     "output_type": "execute_result"
    }
   ],
   "source": [
    "import os\n",
    "dir(os)"
   ]
  },
  {
   "cell_type": "code",
   "execution_count": 61,
   "id": "5467786f-faa1-4e77-b07e-b484e6b1b830",
   "metadata": {},
   "outputs": [
    {
     "name": "stdout",
     "output_type": "stream",
     "text": [
      "square root of 16:  4.0\n",
      "Power 2^3 :  8.0\n"
     ]
    }
   ],
   "source": [
    "print(\"square root of 16: \",math.sqrt(16))\n",
    "print(\"Power 2^3 : \",math.pow(2,3))"
   ]
  },
  {
   "cell_type": "code",
   "execution_count": 43,
   "id": "5e913646-2e85-487f-9cf8-bee2488de2d7",
   "metadata": {},
   "outputs": [
    {
     "name": "stdout",
     "output_type": "stream",
     "text": [
      "Help on built-in module math:\n",
      "\n",
      "NAME\n",
      "    math\n",
      "\n",
      "DESCRIPTION\n",
      "    This module provides access to the mathematical functions\n",
      "    defined by the C standard.\n",
      "\n",
      "FUNCTIONS\n",
      "    acos(x, /)\n",
      "        Return the arc cosine (measured in radians) of x.\n",
      "\n",
      "        The result is between 0 and pi.\n",
      "\n",
      "    acosh(x, /)\n",
      "        Return the inverse hyperbolic cosine of x.\n",
      "\n",
      "    asin(x, /)\n",
      "        Return the arc sine (measured in radians) of x.\n",
      "\n",
      "        The result is between -pi/2 and pi/2.\n",
      "\n",
      "    asinh(x, /)\n",
      "        Return the inverse hyperbolic sine of x.\n",
      "\n",
      "    atan(x, /)\n",
      "        Return the arc tangent (measured in radians) of x.\n",
      "\n",
      "        The result is between -pi/2 and pi/2.\n",
      "\n",
      "    atan2(y, x, /)\n",
      "        Return the arc tangent (measured in radians) of y/x.\n",
      "\n",
      "        Unlike atan(y/x), the signs of both x and y are considered.\n",
      "\n",
      "    atanh(x, /)\n",
      "        Return the inverse hyperbolic tangent of x.\n",
      "\n",
      "    cbrt(x, /)\n",
      "        Return the cube root of x.\n",
      "\n",
      "    ceil(x, /)\n",
      "        Return the ceiling of x as an Integral.\n",
      "\n",
      "        This is the smallest integer >= x.\n",
      "\n",
      "    comb(n, k, /)\n",
      "        Number of ways to choose k items from n items without repetition and without order.\n",
      "\n",
      "        Evaluates to n! / (k! * (n - k)!) when k <= n and evaluates\n",
      "        to zero when k > n.\n",
      "\n",
      "        Also called the binomial coefficient because it is equivalent\n",
      "        to the coefficient of k-th term in polynomial expansion of the\n",
      "        expression (1 + x)**n.\n",
      "\n",
      "        Raises TypeError if either of the arguments are not integers.\n",
      "        Raises ValueError if either of the arguments are negative.\n",
      "\n",
      "    copysign(x, y, /)\n",
      "        Return a float with the magnitude (absolute value) of x but the sign of y.\n",
      "\n",
      "        On platforms that support signed zeros, copysign(1.0, -0.0)\n",
      "        returns -1.0.\n",
      "\n",
      "    cos(x, /)\n",
      "        Return the cosine of x (measured in radians).\n",
      "\n",
      "    cosh(x, /)\n",
      "        Return the hyperbolic cosine of x.\n",
      "\n",
      "    degrees(x, /)\n",
      "        Convert angle x from radians to degrees.\n",
      "\n",
      "    dist(p, q, /)\n",
      "        Return the Euclidean distance between two points p and q.\n",
      "\n",
      "        The points should be specified as sequences (or iterables) of\n",
      "        coordinates.  Both inputs must have the same dimension.\n",
      "\n",
      "        Roughly equivalent to:\n",
      "            sqrt(sum((px - qx) ** 2.0 for px, qx in zip(p, q)))\n",
      "\n",
      "    erf(x, /)\n",
      "        Error function at x.\n",
      "\n",
      "    erfc(x, /)\n",
      "        Complementary error function at x.\n",
      "\n",
      "    exp(x, /)\n",
      "        Return e raised to the power of x.\n",
      "\n",
      "    exp2(x, /)\n",
      "        Return 2 raised to the power of x.\n",
      "\n",
      "    expm1(x, /)\n",
      "        Return exp(x)-1.\n",
      "\n",
      "        This function avoids the loss of precision involved in the direct evaluation of exp(x)-1 for small x.\n",
      "\n",
      "    fabs(x, /)\n",
      "        Return the absolute value of the float x.\n",
      "\n",
      "    factorial(n, /)\n",
      "        Find n!.\n",
      "\n",
      "        Raise a ValueError if x is negative or non-integral.\n",
      "\n",
      "    floor(x, /)\n",
      "        Return the floor of x as an Integral.\n",
      "\n",
      "        This is the largest integer <= x.\n",
      "\n",
      "    fmod(x, y, /)\n",
      "        Return fmod(x, y), according to platform C.\n",
      "\n",
      "        x % y may differ.\n",
      "\n",
      "    frexp(x, /)\n",
      "        Return the mantissa and exponent of x, as pair (m, e).\n",
      "\n",
      "        m is a float and e is an int, such that x = m * 2.**e.\n",
      "        If x is 0, m and e are both 0.  Else 0.5 <= abs(m) < 1.0.\n",
      "\n",
      "    fsum(seq, /)\n",
      "        Return an accurate floating-point sum of values in the iterable seq.\n",
      "\n",
      "        Assumes IEEE-754 floating-point arithmetic.\n",
      "\n",
      "    gamma(x, /)\n",
      "        Gamma function at x.\n",
      "\n",
      "    gcd(*integers)\n",
      "        Greatest Common Divisor.\n",
      "\n",
      "    hypot(...)\n",
      "        hypot(*coordinates) -> value\n",
      "\n",
      "        Multidimensional Euclidean distance from the origin to a point.\n",
      "\n",
      "        Roughly equivalent to:\n",
      "            sqrt(sum(x**2 for x in coordinates))\n",
      "\n",
      "        For a two dimensional point (x, y), gives the hypotenuse\n",
      "        using the Pythagorean theorem:  sqrt(x*x + y*y).\n",
      "\n",
      "        For example, the hypotenuse of a 3/4/5 right triangle is:\n",
      "\n",
      "            >>> hypot(3.0, 4.0)\n",
      "            5.0\n",
      "\n",
      "    isclose(a, b, *, rel_tol=1e-09, abs_tol=0.0)\n",
      "        Determine whether two floating-point numbers are close in value.\n",
      "\n",
      "          rel_tol\n",
      "            maximum difference for being considered \"close\", relative to the\n",
      "            magnitude of the input values\n",
      "          abs_tol\n",
      "            maximum difference for being considered \"close\", regardless of the\n",
      "            magnitude of the input values\n",
      "\n",
      "        Return True if a is close in value to b, and False otherwise.\n",
      "\n",
      "        For the values to be considered close, the difference between them\n",
      "        must be smaller than at least one of the tolerances.\n",
      "\n",
      "        -inf, inf and NaN behave similarly to the IEEE 754 Standard.  That\n",
      "        is, NaN is not close to anything, even itself.  inf and -inf are\n",
      "        only close to themselves.\n",
      "\n",
      "    isfinite(x, /)\n",
      "        Return True if x is neither an infinity nor a NaN, and False otherwise.\n",
      "\n",
      "    isinf(x, /)\n",
      "        Return True if x is a positive or negative infinity, and False otherwise.\n",
      "\n",
      "    isnan(x, /)\n",
      "        Return True if x is a NaN (not a number), and False otherwise.\n",
      "\n",
      "    isqrt(n, /)\n",
      "        Return the integer part of the square root of the input.\n",
      "\n",
      "    lcm(*integers)\n",
      "        Least Common Multiple.\n",
      "\n",
      "    ldexp(x, i, /)\n",
      "        Return x * (2**i).\n",
      "\n",
      "        This is essentially the inverse of frexp().\n",
      "\n",
      "    lgamma(x, /)\n",
      "        Natural logarithm of absolute value of Gamma function at x.\n",
      "\n",
      "    log(...)\n",
      "        log(x, [base=math.e])\n",
      "        Return the logarithm of x to the given base.\n",
      "\n",
      "        If the base is not specified, returns the natural logarithm (base e) of x.\n",
      "\n",
      "    log10(x, /)\n",
      "        Return the base 10 logarithm of x.\n",
      "\n",
      "    log1p(x, /)\n",
      "        Return the natural logarithm of 1+x (base e).\n",
      "\n",
      "        The result is computed in a way which is accurate for x near zero.\n",
      "\n",
      "    log2(x, /)\n",
      "        Return the base 2 logarithm of x.\n",
      "\n",
      "    modf(x, /)\n",
      "        Return the fractional and integer parts of x.\n",
      "\n",
      "        Both results carry the sign of x and are floats.\n",
      "\n",
      "    nextafter(x, y, /, *, steps=None)\n",
      "        Return the floating-point value the given number of steps after x towards y.\n",
      "\n",
      "        If steps is not specified or is None, it defaults to 1.\n",
      "\n",
      "        Raises a TypeError, if x or y is not a double, or if steps is not an integer.\n",
      "        Raises ValueError if steps is negative.\n",
      "\n",
      "    perm(n, k=None, /)\n",
      "        Number of ways to choose k items from n items without repetition and with order.\n",
      "\n",
      "        Evaluates to n! / (n - k)! when k <= n and evaluates\n",
      "        to zero when k > n.\n",
      "\n",
      "        If k is not specified or is None, then k defaults to n\n",
      "        and the function returns n!.\n",
      "\n",
      "        Raises TypeError if either of the arguments are not integers.\n",
      "        Raises ValueError if either of the arguments are negative.\n",
      "\n",
      "    pow(x, y, /)\n",
      "        Return x**y (x to the power of y).\n",
      "\n",
      "    prod(iterable, /, *, start=1)\n",
      "        Calculate the product of all the elements in the input iterable.\n",
      "\n",
      "        The default start value for the product is 1.\n",
      "\n",
      "        When the iterable is empty, return the start value.  This function is\n",
      "        intended specifically for use with numeric values and may reject\n",
      "        non-numeric types.\n",
      "\n",
      "    radians(x, /)\n",
      "        Convert angle x from degrees to radians.\n",
      "\n",
      "    remainder(x, y, /)\n",
      "        Difference between x and the closest integer multiple of y.\n",
      "\n",
      "        Return x - n*y where n*y is the closest integer multiple of y.\n",
      "        In the case where x is exactly halfway between two multiples of\n",
      "        y, the nearest even value of n is used. The result is always exact.\n",
      "\n",
      "    sin(x, /)\n",
      "        Return the sine of x (measured in radians).\n",
      "\n",
      "    sinh(x, /)\n",
      "        Return the hyperbolic sine of x.\n",
      "\n",
      "    sqrt(x, /)\n",
      "        Return the square root of x.\n",
      "\n",
      "    sumprod(p, q, /)\n",
      "        Return the sum of products of values from two iterables p and q.\n",
      "\n",
      "        Roughly equivalent to:\n",
      "\n",
      "            sum(itertools.starmap(operator.mul, zip(p, q, strict=True)))\n",
      "\n",
      "        For float and mixed int/float inputs, the intermediate products\n",
      "        and sums are computed with extended precision.\n",
      "\n",
      "    tan(x, /)\n",
      "        Return the tangent of x (measured in radians).\n",
      "\n",
      "    tanh(x, /)\n",
      "        Return the hyperbolic tangent of x.\n",
      "\n",
      "    trunc(x, /)\n",
      "        Truncates the Real x to the nearest Integral toward 0.\n",
      "\n",
      "        Uses the __trunc__ magic method.\n",
      "\n",
      "    ulp(x, /)\n",
      "        Return the value of the least significant bit of the float x.\n",
      "\n",
      "DATA\n",
      "    e = 2.718281828459045\n",
      "    inf = inf\n",
      "    nan = nan\n",
      "    pi = 3.141592653589793\n",
      "    tau = 6.283185307179586\n",
      "\n",
      "FILE\n",
      "    (built-in)\n",
      "\n",
      "\n"
     ]
    }
   ],
   "source": [
    "help(math)"
   ]
  },
  {
   "cell_type": "code",
   "execution_count": 64,
   "id": "444e43b7-69e3-4885-955a-775af27bf9ff",
   "metadata": {},
   "outputs": [
    {
     "name": "stdout",
     "output_type": "stream",
     "text": [
      "Positive numbers : \n",
      "math.floor(3.7):  3\n",
      "math.ceil(5.4):  6\n",
      "math.trunc(2.1):  2\n",
      "Negative numbers : \n",
      "math.floor(-3.7):  -4\n",
      "math.ceil(-5.4):  -5\n",
      "math.trunc(-2.1):  -2\n",
      "Edge Classes: \n",
      "math.floor(3.0):  3\n",
      "math.ceil(-5.0):  -5\n",
      "math.trunc(2.0):  2\n"
     ]
    }
   ],
   "source": [
    "# Positive numbers\n",
    "print(\"Positive numbers : \")\n",
    "print(\"math.floor(3.7): \",math.floor(3.7))                 # nearest lesser valuse\n",
    "print(\"math.ceil(5.4): \",math.ceil(5.4))                   # nearest more value\n",
    "print(\"math.trunc(2.1): \",math.trunc(2.1))                 # Remove decimal part\n",
    "\n",
    "# Negative numbers\n",
    "print(\"Negative numbers : \")\n",
    "print(\"math.floor(-3.7): \",math.floor(-3.7))                 # nearest lesser value\n",
    "print(\"math.ceil(-5.4): \",math.ceil(-5.4))                   # nearest more value\n",
    "print(\"math.trunc(-2.1): \",math.trunc(-2.1)) \n",
    "\n",
    "# Edge Classes\n",
    "print(\"Edge Classes: \")\n",
    "print(\"math.floor(3.0): \",math.floor(3.0))                 # nearest lesser valuse\n",
    "print(\"math.ceil(-5.0): \",math.ceil(-5.0))                   # nearest more value\n",
    "print(\"math.trunc(2.0): \",math.trunc(2.0))  "
   ]
  },
  {
   "cell_type": "code",
   "execution_count": 93,
   "id": "e985df03-eab6-4e77-91bb-555244d65185",
   "metadata": {},
   "outputs": [
    {
     "name": "stdout",
     "output_type": "stream",
     "text": [
      "2.302585092994046\n",
      "3.0\n",
      "1.0\n",
      "3.141592653589793\n",
      "180.0\n"
     ]
    }
   ],
   "source": [
    "print(math.log(10))\n",
    "print(math.log10(1000))\n",
    "print(math.sin(math.pi/2))\n",
    "print(math.radians(180))\n",
    "print(math.degrees(math.pi))"
   ]
  },
  {
   "cell_type": "code",
   "execution_count": null,
   "id": "95f78e5d-47d0-4b23-8d00-bcf31590b01d",
   "metadata": {},
   "outputs": [],
   "source": [
    "!pip install num2words\n",
    "\n",
    "from num2words import num2words\n",
    "\n",
    "# Read input from users\n",
    "num = int(input(\"Enter a number : \"))\n",
    "\n",
    "# convert into indian words\n",
    "words = num2words(num,lang='en_IN')\n",
    "\n",
    "print(words.title())"
   ]
  },
  {
   "cell_type": "code",
   "execution_count": 69,
   "id": "ed2c3cd3-b61c-429f-8ab7-e52fde50f738",
   "metadata": {},
   "outputs": [
    {
     "name": "stdout",
     "output_type": "stream",
     "text": [
      "10 is greater than 5\n"
     ]
    }
   ],
   "source": [
    "x = 10\n",
    "if x > 5:\n",
    "    print(f\"{x} is greater than 5\")"
   ]
  },
  {
   "cell_type": "code",
   "execution_count": 81,
   "id": "c969d2fc-a8c8-4095-80bb-d61950b89362",
   "metadata": {},
   "outputs": [
    {
     "name": "stdout",
     "output_type": "stream",
     "text": [
      "3 is odd\n"
     ]
    }
   ],
   "source": [
    "x = 3\n",
    "if x % 2 == 0:\n",
    "    print(f\"{x} is even\")\n",
    "else:\n",
    "    print(f\"{x} is odd\")"
   ]
  },
  {
   "cell_type": "code",
   "execution_count": 80,
   "id": "d7e50ab4-005a-4ee4-90bc-15bbb53684dd",
   "metadata": {},
   "outputs": [
    {
     "name": "stdout",
     "output_type": "stream",
     "text": [
      "Grade: F\n"
     ]
    }
   ],
   "source": [
    "marks = 30\n",
    "if marks >= 90:\n",
    "    print(\"Grade:A\")\n",
    "elif marks >= 75:\n",
    "    print(\"Grade: B\")\n",
    "elif marks >= 60:\n",
    "    print(\"Grade: C\")\n",
    "else:\n",
    "    print(\"Grade: F\")\n"
   ]
  },
  {
   "cell_type": "code",
   "execution_count": 95,
   "id": "049d96cf-c3c1-4ca9-b46c-1dec79525856",
   "metadata": {},
   "outputs": [
    {
     "name": "stdout",
     "output_type": "stream",
     "text": [
      "Both conditions are true\n"
     ]
    }
   ],
   "source": [
    "x = 10\n",
    "y = 20\n",
    "if x > 5 and y > 15:\n",
    "        print(\"Both conditions are true\")"
   ]
  },
  {
   "cell_type": "code",
   "execution_count": 75,
   "id": "c699beee-0e47-4098-adbd-3ddf95c6a07b",
   "metadata": {},
   "outputs": [
    {
     "name": "stdout",
     "output_type": "stream",
     "text": [
      "Both x and y are positive\n"
     ]
    }
   ],
   "source": [
    "x = 10\n",
    "y = 10\n",
    "if x > 0:\n",
    "    if y > 0:\n",
    "        print(\"Both x and y are positive\")"
   ]
  },
  {
   "cell_type": "code",
   "execution_count": 76,
   "id": "892c9b0b-2f50-452f-9ff6-055b2d3c6102",
   "metadata": {},
   "outputs": [
    {
     "name": "stdin",
     "output_type": "stream",
     "text": [
      "Enter 1st no 25\n",
      "Enter 2nd no 45\n",
      "Enter 3rd no 545\n"
     ]
    },
    {
     "name": "stdout",
     "output_type": "stream",
     "text": [
      "545 is Biggest\n"
     ]
    }
   ],
   "source": [
    "x = int(input('Enter 1st no'))\n",
    "y = int(input('Enter 2nd no'))\n",
    "z = int(input('Enter 3rd no'))\n",
    "if x > y and x > z:\n",
    "    print(f'{x} is Biggest')\n",
    "elif y>z:\n",
    "    print(f'{y} is Biggest')\n",
    "else:\n",
    "    print(f'{z} is Biggest')"
   ]
  },
  {
   "cell_type": "code",
   "execution_count": 85,
   "id": "79a3d9fb-f341-4e8f-a620-e3e86e1f2ac6",
   "metadata": {},
   "outputs": [
    {
     "name": "stdin",
     "output_type": "stream",
     "text": [
      "Enter a Number:  5\n"
     ]
    },
    {
     "name": "stdout",
     "output_type": "stream",
     "text": [
      "5 is between 1 to 90\n"
     ]
    }
   ],
   "source": [
    "n = int(input('Enter a Number: '))\n",
    "if n >= 1 and n <= 90:\n",
    "    print(f'{n} is between 1 to 90')\n",
    "else:\n",
    "    print(f'{n} is not between 1 to 90')"
   ]
  },
  {
   "cell_type": "code",
   "execution_count": 100,
   "id": "4ae93e8f-c90d-4d06-8f60-cbb5f2fd9715",
   "metadata": {},
   "outputs": [
    {
     "name": "stdin",
     "output_type": "stream",
     "text": [
      "Enter a number: 5\n"
     ]
    },
    {
     "name": "stdout",
     "output_type": "stream",
     "text": [
      "5 is Odd Number\n"
     ]
    }
   ],
   "source": [
    "x = int(input(\"Enter a number:\"))\n",
    "if x%2==0:\n",
    "    print(f\"{x} is Even Number\")\n",
    "else:\n",
    "    print(f\"{x} is Odd Number\")"
   ]
  },
  {
   "cell_type": "code",
   "execution_count": 4,
   "id": "6a4ce157-b034-4692-a543-46846028d3e4",
   "metadata": {},
   "outputs": [
    {
     "name": "stdout",
     "output_type": "stream",
     "text": [
      "range(1, 10, 2)\n"
     ]
    }
   ],
   "source": [
    "#range(10)---->0,1,2,3,4,5,6,7,8,10-1\n",
    "#range(1-10)---->1,2,3,4,5,6,7,8,10-1\n",
    "#range(1,10,2)---->(1,2,3,4,5,6,7,8,9)        1,3,5,7,9\n",
    "#range(1,10,3)---->(1,2,3,4,5,6,7,8,9)        1,4,7         #range(start,end,step)\n",
    "#range(2,11,1)---->(2,3,4,5,6,7,8,9,11-1                    +ve-->end-1\n",
    "#range(5,11,2)---->(5,6,7,8,9,10)             5,7,9\n",
    "#range(11,0,-1)--->(11,10,9,8,7,6,5,4,3,2,0+1)              -ve-->end+1\n",
    "#range(20,1,-1)--->()\n",
    "#range(7)--->0,1,2,3,4,5,6\n",
    "#range(11,4,-2)--->11,9,7,5\n",
    "#range(11,5,-1)--->11,10,9,8,7,6"
   ]
  },
  {
   "cell_type": "code",
   "execution_count": 9,
   "id": "2a9b37af-b0b9-4350-b9fd-213374634904",
   "metadata": {},
   "outputs": [
    {
     "name": "stdout",
     "output_type": "stream",
     "text": [
      "[0, 1, 2, 3, 4, 5, 6]\n"
     ]
    }
   ],
   "source": [
    "print(list(range(7)))"
   ]
  },
  {
   "cell_type": "code",
   "execution_count": 16,
   "id": "1b49fbf8-a316-4df3-8e51-5ddf70921f16",
   "metadata": {},
   "outputs": [
    {
     "name": "stdout",
     "output_type": "stream",
     "text": [
      "[]\n"
     ]
    }
   ],
   "source": [
    "print(list(range(11,5,2)))"
   ]
  },
  {
   "cell_type": "code",
   "execution_count": 11,
   "id": "afe6be4e-883a-42ea-9452-49969b88ae4b",
   "metadata": {},
   "outputs": [
    {
     "name": "stdout",
     "output_type": "stream",
     "text": [
      "[11, 10, 9, 8, 7, 6]\n"
     ]
    }
   ],
   "source": [
    "print(list(range(11,5,-1)))"
   ]
  },
  {
   "cell_type": "code",
   "execution_count": 17,
   "id": "ebd3c405-4c97-4189-bc17-9cad137c8100",
   "metadata": {},
   "outputs": [
    {
     "name": "stdout",
     "output_type": "stream",
     "text": [
      "[20, 19, 18, 17, 16, 15, 14, 13, 12, 11, 10, 9, 8, 7, 6, 5, 4, 3, 2]\n"
     ]
    }
   ],
   "source": [
    "print(list(range(20,1,-1)))"
   ]
  },
  {
   "cell_type": "code",
   "execution_count": 18,
   "id": "f5b78067-75c3-4ba8-b7a2-c2c60aae3c54",
   "metadata": {},
   "outputs": [
    {
     "name": "stdout",
     "output_type": "stream",
     "text": [
      "[20, 18, 16, 14, 12, 10, 8, 6, 4, 2]\n"
     ]
    }
   ],
   "source": [
    "print(list(range(20,1,-2)))"
   ]
  },
  {
   "cell_type": "code",
   "execution_count": 21,
   "id": "13d220aa-1628-4d9a-a47a-c73528b9a270",
   "metadata": {},
   "outputs": [
    {
     "name": "stdout",
     "output_type": "stream",
     "text": [
      "1 2 3 4 5 "
     ]
    }
   ],
   "source": [
    "for i in range(1,6):\n",
    "    print(i,end=' ')"
   ]
  },
  {
   "cell_type": "code",
   "execution_count": 34,
   "id": "203384ca-e440-443c-94fc-8fa8ecc4b654",
   "metadata": {},
   "outputs": [
    {
     "name": "stdout",
     "output_type": "stream",
     "text": [
      "6\n",
      "6\n"
     ]
    }
   ],
   "source": [
    "s = \"Nikhil\"\n",
    "i = 0\n",
    "for x in s:\n",
    "    i=i+1\n",
    "print(i)\n",
    "print(len(s))"
   ]
  },
  {
   "cell_type": "code",
   "execution_count": 35,
   "id": "b0fc3c5a-de1d-497f-8922-371a02ad83ba",
   "metadata": {},
   "outputs": [
    {
     "name": "stdout",
     "output_type": "stream",
     "text": [
      "N|i|k|h|i|l|"
     ]
    }
   ],
   "source": [
    "s = \"Nikhil\"\n",
    "i = 0\n",
    "for x in s:\n",
    "  print(x,end='|')"
   ]
  },
  {
   "cell_type": "code",
   "execution_count": 69,
   "id": "8809fc61-1934-47ae-9eb2-10fead69ef9a",
   "metadata": {},
   "outputs": [
    {
     "name": "stdout",
     "output_type": "stream",
     "text": [
      "1 2 3 4 5 6 7 8 9 10 "
     ]
    }
   ],
   "source": [
    "# while <condition>\n",
    "# condition may true or false\n",
    "i=1\n",
    "while i <= 10:\n",
    "    print(i , end=\" \")\n",
    "    i+=1"
   ]
  },
  {
   "cell_type": "code",
   "execution_count": 63,
   "id": "cd70760d-96a2-4eb6-a7d7-8b85a1a8988a",
   "metadata": {},
   "outputs": [
    {
     "name": "stdout",
     "output_type": "stream",
     "text": [
      "1 2 4 5 "
     ]
    }
   ],
   "source": [
    "# Skip printing 3\n",
    "for i in range(1,6):\n",
    "    if i == 3:\n",
    "        continue\n",
    "    print(i,end=\" \")"
   ]
  },
  {
   "cell_type": "code",
   "execution_count": 62,
   "id": "b938b086-e322-4171-ac45-2f75cda4e835",
   "metadata": {},
   "outputs": [
    {
     "name": "stdout",
     "output_type": "stream",
     "text": [
      "1 2 "
     ]
    }
   ],
   "source": [
    "for i in range(1,6):\n",
    "    if i == 3:\n",
    "        break\n",
    "    print(i,end=\" \")"
   ]
  },
  {
   "cell_type": "code",
   "execution_count": 70,
   "id": "7d48b2e6-0746-4fbe-83fd-6a09b40f8d42",
   "metadata": {},
   "outputs": [
    {
     "name": "stdout",
     "output_type": "stream",
     "text": [
      "1\n",
      "2\n"
     ]
    }
   ],
   "source": [
    "for i in range(1,6):\n",
    "    if i == 3:\n",
    "        break\n",
    "    print(i)\n",
    "else:\n",
    "    print(\"Loop Completed\")              #This will not be printed"
   ]
  },
  {
   "cell_type": "code",
   "execution_count": 77,
   "id": "ddb5c367-f037-4bb5-90a0-98b2a99b197d",
   "metadata": {},
   "outputs": [
    {
     "name": "stdout",
     "output_type": "stream",
     "text": [
      "1 2 3 4 5 "
     ]
    }
   ],
   "source": [
    "i=1\n",
    "while i<=5:\n",
    "    print(i,end=\" \")\n",
    "    i += 1"
   ]
  },
  {
   "cell_type": "code",
   "execution_count": 34,
   "id": "95bc1cbb-c5e6-4f4b-8f13-d104fbd29fd5",
   "metadata": {},
   "outputs": [
    {
     "name": "stdout",
     "output_type": "stream",
     "text": [
      "1\n",
      "2\n",
      "3\n",
      "4\n",
      "5\n"
     ]
    }
   ],
   "source": [
    "for i in range(1,6):\n",
    "    if i==3:\n",
    "        pass             # placeholder - does nothing\n",
    "    print(i)"
   ]
  },
  {
   "cell_type": "code",
   "execution_count": 74,
   "id": "16d02ff9-a0bd-4c8b-94fd-2f712a619399",
   "metadata": {},
   "outputs": [
    {
     "name": "stdout",
     "output_type": "stream",
     "text": [
      "1\n",
      "2\n",
      "3\n",
      "4\n",
      "While loop Completed\n"
     ]
    }
   ],
   "source": [
    "x = 1\n",
    "while x < 5:\n",
    "    print(x)\n",
    "    x += 1\n",
    "else:\n",
    "    print(\"While loop Completed\")        # printed"
   ]
  },
  {
   "cell_type": "code",
   "execution_count": 68,
   "id": "e528bb0f-11ee-4461-a894-2954fd1ab996",
   "metadata": {},
   "outputs": [
    {
     "name": "stdout",
     "output_type": "stream",
     "text": [
      "1\n",
      "2\n"
     ]
    }
   ],
   "source": [
    "x = 1\n",
    "while x < 5:\n",
    "    if x == 3:\n",
    "        break\n",
    "    print(x)\n",
    "    x += 1\n",
    "else:\n",
    "    print(\"This will not be printed\")"
   ]
  },
  {
   "cell_type": "code",
   "execution_count": 3,
   "id": "75681a5b-df55-42ef-b237-ff457636cb24",
   "metadata": {},
   "outputs": [
    {
     "name": "stdin",
     "output_type": "stream",
     "text": [
      "Enter your favourate name: nikhil\n"
     ]
    },
    {
     "name": "stdout",
     "output_type": "stream",
     "text": [
      "Hello nikhil\n"
     ]
    },
    {
     "name": "stdin",
     "output_type": "stream",
     "text": [
      "Enter your favourate name: Kedar\n"
     ]
    },
    {
     "name": "stdout",
     "output_type": "stream",
     "text": [
      "Hello Kedar\n",
      "Thanks for your confirmation.\n"
     ]
    }
   ],
   "source": [
    "name = \" \"\n",
    "while name!=\"Kedar\":\n",
    "    name=input(\"Enter your favourate name:\")\n",
    "    print(f\"Hello {name}\")\n",
    "print(\"Thanks for your confirmation.\")"
   ]
  },
  {
   "cell_type": "code",
   "execution_count": null,
   "id": "788fb5f1-8e65-42ca-ac31-490642aaf468",
   "metadata": {},
   "outputs": [],
   "source": [
    "NESTED FOR LOOP"
   ]
  },
  {
   "cell_type": "code",
   "execution_count": 7,
   "id": "19ee6d02-f044-4d6c-9bb8-3959e09b7533",
   "metadata": {},
   "outputs": [
    {
     "name": "stdout",
     "output_type": "stream",
     "text": [
      "0 0\n",
      "0 1\n",
      "0 2\n",
      "0 3\n",
      "1 0\n",
      "1 1\n",
      "1 2\n",
      "1 3\n",
      "2 0\n",
      "2 1\n",
      "2 2\n",
      "2 3\n",
      "3 0\n",
      "3 1\n",
      "3 2\n",
      "3 3\n"
     ]
    }
   ],
   "source": [
    "for i in range(4):\n",
    "    for j in range(4):\n",
    "        print(i,j)\n",
    "    "
   ]
  },
  {
   "cell_type": "code",
   "execution_count": 14,
   "id": "57145194-97e3-479d-a672-3ae440b9c467",
   "metadata": {},
   "outputs": [
    {
     "name": "stdin",
     "output_type": "stream",
     "text": [
      "Enter the Value: 5\n"
     ]
    },
    {
     "name": "stdout",
     "output_type": "stream",
     "text": [
      "*\n",
      "*\n",
      "*\n",
      "*\n",
      "*\n"
     ]
    }
   ],
   "source": [
    "n = int(input(\"Enter the Value:\"))\n",
    "for _ in range(n):                                            \n",
    "    print('*')"
   ]
  },
  {
   "cell_type": "code",
   "execution_count": 16,
   "id": "dcdbef15-a4bc-464e-b8e6-e20a5d37048c",
   "metadata": {},
   "outputs": [
    {
     "name": "stdin",
     "output_type": "stream",
     "text": [
      "Enter the Value: 5\n"
     ]
    },
    {
     "name": "stdout",
     "output_type": "stream",
     "text": [
      "* * * * * "
     ]
    }
   ],
   "source": [
    "n = int(input(\"Enter the Value:\"))\n",
    "for _ in range(n):                                            \n",
    "    print('*',end=\" \")"
   ]
  },
  {
   "cell_type": "code",
   "execution_count": 27,
   "id": "8c403bb0-ee8c-4e33-a40d-a843cc62f4ef",
   "metadata": {},
   "outputs": [
    {
     "name": "stdout",
     "output_type": "stream",
     "text": [
      "* * * * * \n",
      "* * * * * \n",
      "* * * * * \n",
      "* * * * * \n",
      "* * * * * \n"
     ]
    }
   ],
   "source": [
    "n=5\n",
    "for i in range(5):\n",
    "    for j in range(5):\n",
    "        print('*',end=\" \")\n",
    "    print()"
   ]
  },
  {
   "cell_type": "code",
   "execution_count": 32,
   "id": "4b14e302-eb78-4ad4-a1c1-dafa75017d1f",
   "metadata": {},
   "outputs": [
    {
     "name": "stdout",
     "output_type": "stream",
     "text": [
      "['*', '*', '*', '*', '*', '*', '*', '*']\n"
     ]
    }
   ],
   "source": [
    "stars = []\n",
    "for _ in range(8):\n",
    "    stars.append(\"*\")\n",
    "print(stars)"
   ]
  },
  {
   "cell_type": "code",
   "execution_count": 39,
   "id": "5050056a-0348-4235-ad01-50b9b855acde",
   "metadata": {},
   "outputs": [
    {
     "name": "stdout",
     "output_type": "stream",
     "text": [
      "[10, 20, 40]\n"
     ]
    }
   ],
   "source": [
    "x = [ 10 , 20 , 30 , 40 ]\n",
    "del x[2]\n",
    "print(x)"
   ]
  },
  {
   "cell_type": "code",
   "execution_count": 3,
   "id": "f80ae4ad-2ace-44b0-b6fa-d56eebfe67e8",
   "metadata": {},
   "outputs": [
    {
     "data": {
      "text/plain": [
       "-11"
      ]
     },
     "execution_count": 3,
     "metadata": {},
     "output_type": "execute_result"
    }
   ],
   "source": [
    "~10                # ~a = a+1"
   ]
  },
  {
   "cell_type": "code",
   "execution_count": 5,
   "id": "e7a695b9-2dc7-428d-b91b-b163319ddcf2",
   "metadata": {},
   "outputs": [
    {
     "name": "stdout",
     "output_type": "stream",
     "text": [
      "YTH\n",
      "6\n"
     ]
    }
   ],
   "source": [
    "s =\"PYTHON\"\n",
    "print(s[1:4])\n",
    "print(len(s))"
   ]
  },
  {
   "cell_type": "code",
   "execution_count": null,
   "id": "a038f589-e59e-45c9-9fa1-2d4eb7d0364a",
   "metadata": {},
   "outputs": [],
   "source": [
    "find()    ----->   finds the first occurence of substring\n",
    "split()   ----->   Splits the string into string\n",
    "replace() ----->   Replaces a substring with another\n",
    "join()    ----->   joins a list into a string\n",
    "strip()   ----->   Removes the leading and trailing spaces\n",
    "len()"
   ]
  },
  {
   "cell_type": "code",
   "execution_count": 51,
   "id": "9fd14efb-154d-45a0-9362-c4d9b7452749",
   "metadata": {},
   "outputs": [
    {
     "name": "stdout",
     "output_type": "stream",
     "text": [
      "Using find(): 9\n",
      "Using rfind(): 49\n"
     ]
    }
   ],
   "source": [
    "s=\"Learning Python is very easy,Python is Favourite,Python is best\"\n",
    "print(\"Using find():\",s.find(\"Python\"))\n",
    "print(\"Using rfind():\",s.rfind(\"Python\")) "
   ]
  },
  {
   "cell_type": "code",
   "execution_count": 48,
   "id": "d2344241-8412-4aef-ba1c-8855655c2730",
   "metadata": {},
   "outputs": [
    {
     "name": "stdout",
     "output_type": "stream",
     "text": [
      "Replace words: Learning World is very easy,World is Favourite,World is best\n"
     ]
    }
   ],
   "source": [
    "s=\"Learning Python is very easy,Python is Favourite,Python is best\"\n",
    "print(\"Replace words:\",s.replace(\"Python\",\"World\")) "
   ]
  },
  {
   "cell_type": "code",
   "execution_count": 52,
   "id": "f8da1c03-26f2-401a-be23-27fc6fac0657",
   "metadata": {},
   "outputs": [
    {
     "name": "stdout",
     "output_type": "stream",
     "text": [
      "Using index(): 9\n",
      "Using rindex(): 49\n"
     ]
    }
   ],
   "source": [
    "s=\"Learning Python is very easy,Python is Favourite,Python is fast\"\n",
    "print(\"Using index():\",s.index(\"Python\"))  \n",
    "print(\"Using rindex():\",s.rindex(\"Python\")) "
   ]
  },
  {
   "cell_type": "code",
   "execution_count": 21,
   "id": "62feeb4e-b00d-4dc6-8c64-28756527ba7a",
   "metadata": {},
   "outputs": [
    {
     "name": "stdout",
     "output_type": "stream",
     "text": [
      "abcdefghijkl\n"
     ]
    }
   ],
   "source": [
    "s=\"a b c d e fg hi jkl\"\n",
    "print(s.replace(\" \",\"\"))"
   ]
  },
  {
   "cell_type": "code",
   "execution_count": 28,
   "id": "ba453e49-6de8-40fe-818a-ed9451d95165",
   "metadata": {},
   "outputs": [
    {
     "data": {
      "text/plain": [
       "'hello world!'"
      ]
     },
     "execution_count": 28,
     "metadata": {},
     "output_type": "execute_result"
    }
   ],
   "source": [
    "s= \"Hello World!\"\n",
    "s.lower()"
   ]
  },
  {
   "cell_type": "code",
   "execution_count": 31,
   "id": "e9a6d310-a184-42de-834b-125103392891",
   "metadata": {},
   "outputs": [
    {
     "name": "stdout",
     "output_type": "stream",
     "text": [
      "['Product', 'is', 'really', 'good.']\n",
      "OK\n",
      "OK\n",
      "OK\n",
      "OK\n"
     ]
    }
   ],
   "source": [
    "s1 = \"Product is really good.\"\n",
    "l = s1.split()\n",
    "print(l)\n",
    "for x in l:\n",
    "    if x == 'good':\n",
    "        print('+ve Review')\n",
    "    else:\n",
    "        print('OK')"
   ]
  },
  {
   "cell_type": "code",
   "execution_count": 45,
   "id": "3c5a3966-ef48-4d9b-82c1-2a3a584f943e",
   "metadata": {},
   "outputs": [
    {
     "name": "stdout",
     "output_type": "stream",
     "text": [
      "['Product is ', ' really good.']\n"
     ]
    }
   ],
   "source": [
    "s1 = \"Product is , really good.\"\n",
    "l = s1.split(\",\")\n",
    "print(l)"
   ]
  },
  {
   "cell_type": "code",
   "execution_count": 37,
   "id": "2afb4e9f-1770-4be9-9075-53b629726a2a",
   "metadata": {},
   "outputs": [
    {
     "name": "stdout",
     "output_type": "stream",
     "text": [
      "['2026', '04', '31']\n"
     ]
    }
   ],
   "source": [
    "s1 = \"2026-04-31\"\n",
    "l = s1.split(\"-\")\n",
    "print(l)"
   ]
  },
  {
   "cell_type": "code",
   "execution_count": null,
   "id": "0add6bf4-95bb-45b8-ad6a-645df2a07973",
   "metadata": {},
   "outputs": [],
   "source": []
  }
 ],
 "metadata": {
  "kernelspec": {
   "display_name": "Python 3 (ipykernel)",
   "language": "python",
   "name": "python3"
  },
  "language_info": {
   "codemirror_mode": {
    "name": "ipython",
    "version": 3
   },
   "file_extension": ".py",
   "mimetype": "text/x-python",
   "name": "python",
   "nbconvert_exporter": "python",
   "pygments_lexer": "ipython3",
   "version": "3.13.5"
  }
 },
 "nbformat": 4,
 "nbformat_minor": 5
}
